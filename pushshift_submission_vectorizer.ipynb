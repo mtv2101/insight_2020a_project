{
 "cells": [
  {
   "cell_type": "code",
   "execution_count": null,
   "outputs": [],
   "source": [],
   "metadata": {
    "collapsed": false,
    "pycharm": {
     "name": "#%%\n"
    }
   }
  },
  {
   "cell_type": "code",
   "execution_count": null,
   "outputs": [],
   "source": [
    "%load_ext autoreload\n",
    "%autoreload 2"
   ],
   "metadata": {
    "collapsed": false,
    "pycharm": {
     "name": "#%%\n"
    }
   }
  },
  {
   "cell_type": "code",
   "execution_count": null,
   "outputs": [],
   "source": [
    "import numpy as np\n",
    "import pandas as pd\n",
    "import datetime as dt\n",
    "import timeit\n",
    "import itertools\n",
    "import matplotlib.pyplot as plt\n",
    "\n",
    "from pathlib import Path\n",
    "from typing import *\n",
    "import torch\n",
    "import torch.optim as optim\n",
    "from functools import partial\n",
    "from overrides import overrides\n",
    "\n",
    "#from allennlp.data import Instance\n",
    "#from allennlp.data.token_indexers import TokenIndexer\n",
    "#from allennlp.data.tokenizers import Token\n",
    "#from allennlp.nn import util as nn_util\n",
    "\n",
    "import praw\n",
    "from psaw import PushshiftAPI\n",
    "\n",
    "import stanfordnlp"
   ],
   "metadata": {
    "collapsed": false,
    "pycharm": {
     "name": "#%%\n"
    }
   }
  },
  {
   "cell_type": "code",
   "execution_count": null,
   "outputs": [],
   "source": [
    "api = PushshiftAPI()"
   ],
   "metadata": {
    "collapsed": false,
    "pycharm": {
     "name": "#%%\n"
    }
   }
  },
  {
   "cell_type": "code",
   "execution_count": null,
   "outputs": [],
   "source": [
    "# make dataframe of submissions\n",
    "\n",
    "start_epoch=int(dt.datetime(2019, 6, 1).timestamp())\n",
    "\n",
    "start_time = timeit.default_timer()\n",
    "sub_results = list(api.search_submissions(after=start_epoch,\n",
    "                            subreddit='bookclub',\n",
    "                            filter=['url','author', 'title', 'subreddit', 'id'],\n",
    "                            limit=10000000))\n",
    "\n",
    "all_d = []\n",
    "for s,sub in enumerate(sub_results):\n",
    "    all_d.append(sub.d_)\n",
    "submission_df = pd.DataFrame(all_d)\n",
    "\n",
    "process_time = timeit.default_timer() - start_time\n",
    "print(str(len(sub_results)) + ' submissions, query took ' + str(process_time) + ' seconds')"
   ],
   "metadata": {
    "collapsed": false,
    "pycharm": {
     "name": "#%%\n"
    }
   }
  },
  {
   "cell_type": "code",
   "execution_count": null,
   "outputs": [],
   "source": [
    "# make dataframe of comments\n",
    "\n",
    "start_epoch=int(dt.datetime(2019, 6, 1).timestamp())\n",
    "\n",
    "start_time = timeit.default_timer()\n",
    "comment_results = list(api.search_comments(after=start_epoch,\n",
    "                            subreddit='bookclub',\n",
    "                            filter=['url','author', 'subreddit', 'body', 'score', 'link_id', 'id'],\n",
    "                            limit=10000000))\n",
    "\n",
    "all_d = []\n",
    "for s,sub in enumerate(comment_results):\n",
    "    all_d.append(sub.d_)\n",
    "comment_df = pd.DataFrame(all_d)\n",
    "links_trunc = [l[3:] for l in comment_df['link_id']]\n",
    "comment_df['link_id_trunc'] = links_trunc\n",
    "\n",
    "\n",
    "process_time = timeit.default_timer() - start_time\n",
    "print(str(len(comment_results)) + ' comments, query took ' + str(process_time) + ' seconds')"
   ],
   "metadata": {
    "collapsed": false,
    "pycharm": {
     "name": "#%%\n"
    }
   }
  },
  {
   "cell_type": "code",
   "execution_count": null,
   "outputs": [],
   "source": [
    "all_author_text = []\n",
    "num_posts = []\n",
    "for sub_id in submission_df['id']:\n",
    "    sub_df = comment_df[comment_df['link_id_trunc']==sub_id]\n",
    "    authors = list(sub_df.author.unique())\n",
    "    if authors:\n",
    "        author_text = [sub_df[sub_df['author']==author]['body'] for author in authors]\n",
    "        ''' \n",
    "        1. tokenize\n",
    "        2. lemmatize\n",
    "        3. parts-of-speech classification\n",
    "        4. Noun extraction\n",
    "        5. fuzzy-matching to correct spelling, and join different forms of the noun\n",
    "        6. tf-idf\n",
    "        7. normalize by historical frequency (novelty detection)?\n",
    "        '''\n",
    "        all_author_text.append(list(itertools.chain.from_iterable(author_text)))\n",
    "        num_posts.append(len(author_text))\n",
    "    else:\n",
    "        all_author_text.append(None)\n",
    "        num_posts.append(0)"
   ],
   "metadata": {
    "collapsed": false,
    "pycharm": {
     "name": "#%%\n"
    }
   }
  },
  {
   "cell_type": "code",
   "execution_count": null,
   "outputs": [],
   "source": [
    "submission_df['text'] = all_author_text\n",
    "submission_df['num_posts'] = num_posts\n",
    "submission_df"
   ],
   "metadata": {
    "collapsed": false,
    "pycharm": {
     "name": "#%%\n"
    }
   }
  },
  {
   "cell_type": "markdown",
   "source": [
    "# StanfordNLP"
   ],
   "metadata": {
    "collapsed": false
   }
  },
  {
   "cell_type": "code",
   "execution_count": null,
   "outputs": [],
   "source": [
    "stanfordnlp.download('en')   # This downloads the English models for the neural pipeline\n",
    "nlp = stanfordnlp.Pipeline(lang='en') # This sets up a default neural pipeline in English"
   ],
   "metadata": {
    "collapsed": false,
    "pycharm": {
     "name": "#%%\n"
    }
   }
  },
  {
   "cell_type": "code",
   "execution_count": null,
   "outputs": [],
   "source": [
    "submission_num = 0\n",
    "text_list = submission_df['text'].iloc[submission_num]\n",
    "contrib_text = ''.join(text_list)"
   ],
   "metadata": {
    "collapsed": false,
    "pycharm": {
     "name": "#%%\n"
    }
   }
  },
  {
   "cell_type": "code",
   "execution_count": null,
   "outputs": [],
   "source": [
    "def show_word_relations(doc):\n",
    "    for i, sent in enumerate(doc.sentences):\n",
    "        print(\"[Sentence {}]\".format(i+1))\n",
    "        for word in sent.words:\n",
    "            print(\"{:12s}\\t{:12s}\\t{:6s}\\t{:d}\\t{:12s}\".format(\\\n",
    "                  word.text, word.lemma, word.pos, word.governor, word.dependency_relation))\n",
    "        print(\"\")"
   ],
   "metadata": {
    "collapsed": false,
    "pycharm": {
     "name": "#%%\n"
    }
   }
  },
  {
   "cell_type": "code",
   "execution_count": null,
   "outputs": [],
   "source": [
    "txt = nlp(submission_df['title'].iloc[0])\n",
    "show_word_relations(txt)"
   ],
   "metadata": {
    "collapsed": false,
    "pycharm": {
     "name": "#%%\n"
    }
   }
  },
  {
   "cell_type": "code",
   "execution_count": null,
   "outputs": [],
   "source": [
    "start_time = timeit.default_timer()\n",
    "\n",
    "doc = nlp(contrib_text)\n",
    "\n",
    "process_time = timeit.default_timer() - start_time\n",
    "print('NLP took ' + str(process_time) + ' seconds')"
   ],
   "metadata": {
    "collapsed": false,
    "pycharm": {
     "name": "#%%\n"
    }
   }
  },
  {
   "cell_type": "code",
   "execution_count": null,
   "outputs": [],
   "source": [
    "show_word_relations(doc)"
   ],
   "metadata": {
    "collapsed": false,
    "pycharm": {
     "name": "#%%\n"
    }
   }
  },
  {
   "cell_type": "markdown",
   "source": [
    "# Spacy"
   ],
   "metadata": {
    "collapsed": false
   }
  },
  {
   "cell_type": "code",
   "execution_count": null,
   "outputs": [],
   "source": [
    "import spacy\n",
    "from spacy import displacy\n",
    "from collections import Counter\n",
    "import en_core_web_sm"
   ],
   "metadata": {
    "collapsed": false,
    "pycharm": {
     "name": "#%%\n"
    }
   }
  },
  {
   "cell_type": "code",
   "execution_count": null,
   "outputs": [],
   "source": [
    "#nlp = spacy.load('en')\n",
    "#nlp = spacy.load('en_core_web_sm')\n",
    "nlp = spacy.load('en_core_web_lg')\n",
    "# if problems, see https://stackoverflow.com/questions/54334304/spacy-cant-find-model-en-core-web-sm-on-windows-10-and-python-3-5-3-anacon"
   ],
   "metadata": {
    "collapsed": false,
    "pycharm": {
     "name": "#%%\n"
    }
   }
  },
  {
   "cell_type": "code",
   "execution_count": null,
   "outputs": [],
   "source": [
    "print(submission_df['text'].iloc[0][0])"
   ],
   "metadata": {
    "collapsed": false,
    "pycharm": {
     "name": "#%%\n"
    }
   }
  },
  {
   "cell_type": "code",
   "execution_count": null,
   "outputs": [],
   "source": [
    "all_names = [] # entity = 'PERSON'\n",
    "all_works = [] # entity = 'WORK_OF_ART'\n",
    "all_topics = [] # name or work from submission title\n",
    "\n",
    "for r,row in submission_df.iterrows():\n",
    "    if row.text:\n",
    "        doc = nlp(row.text[0])\n",
    "        names = [X.text for X in doc.ents if X.label_=='PERSON']\n",
    "        works_art = [X.text for X in doc.ents if X.label_=='WORK_OF_ART']\n",
    "        if names:\n",
    "            all_names.append(names)\n",
    "        else:\n",
    "            all_names.append(None)\n",
    "        if works_art:\n",
    "            all_works.append(works_art)\n",
    "        else:\n",
    "            all_works.append(None)\n",
    "    else:\n",
    "        all_names.append(None)\n",
    "        all_works.append(None)\n",
    "        \n",
    "    topic = []\n",
    "    if row.title:\n",
    "        doc = nlp(row.title) # title is a string, not a list\n",
    "        names = [X.text for X in doc.ents if X.label_=='PERSON']\n",
    "        works_art = [X.text for X in doc.ents if X.label_=='WORK_OF_ART']\n",
    "        if names:\n",
    "            topic.append(names)\n",
    "        elif works_art:\n",
    "            topic.append(works_art)\n",
    "        else:\n",
    "            topic.append(None)\n",
    "    else:\n",
    "        topic.append(None)\n",
    "    all_topics.append(topic[0])"
   ],
   "metadata": {
    "collapsed": false,
    "pycharm": {
     "name": "#%%\n"
    }
   }
  },
  {
   "cell_type": "code",
   "execution_count": null,
   "outputs": [],
   "source": [
    "submission_df['names'] = all_names\n",
    "submission_df['works'] = all_works\n",
    "submission_df['topic'] = all_topics"
   ],
   "metadata": {
    "collapsed": false,
    "pycharm": {
     "name": "#%%\n"
    }
   }
  },
  {
   "cell_type": "code",
   "execution_count": null,
   "outputs": [],
   "source": [
    "submission_df.head(10)"
   ],
   "metadata": {
    "collapsed": false,
    "pycharm": {
     "name": "#%%\n"
    }
   }
  },
  {
   "cell_type": "code",
   "execution_count": null,
   "outputs": [],
   "source": [
    "num_posts = np.array(submission_df['num_posts'].values)\n",
    "\n",
    "num_names = []\n",
    "for n in submission_df['names']:\n",
    "    if n:\n",
    "        num_names.append(len(n))\n",
    "    else:\n",
    "        num_names.append(0)\n",
    "num_names = np.array(num_names)\n",
    "\n",
    "num_works = []\n",
    "for n in submission_df['works']:\n",
    "    if n:\n",
    "        num_works.append(len(n))\n",
    "    else:\n",
    "        num_works.append(0)\n",
    "num_works = np.array(num_works)"
   ],
   "metadata": {
    "collapsed": false,
    "pycharm": {
     "name": "#%%\n"
    }
   }
  },
  {
   "cell_type": "code",
   "execution_count": null,
   "outputs": [],
   "source": [
    "plt.scatter(num_posts, num_names+num_works)"
   ],
   "metadata": {
    "collapsed": false,
    "pycharm": {
     "name": "#%%\n"
    }
   }
  },
  {
   "cell_type": "code",
   "execution_count": null,
   "outputs": [],
   "source": [
    "submission_df['url'].iloc[7]"
   ],
   "metadata": {
    "collapsed": false,
    "pycharm": {
     "name": "#%%\n"
    }
   }
  },
  {
   "cell_type": "code",
   "execution_count": null,
   "outputs": [],
   "source": [
    "submission_df['text'].iloc[7]"
   ],
   "metadata": {
    "collapsed": false,
    "pycharm": {
     "name": "#%%\n"
    }
   }
  },
  {
   "cell_type": "code",
   "execution_count": null,
   "outputs": [],
   "source": [
    "names = list(itertools.chain.from_iterable(all_names))\n",
    "art = list(itertools.chain.from_iterable(all_works))\n",
    "print(art)"
   ],
   "metadata": {
    "collapsed": false,
    "pycharm": {
     "name": "#%%\n"
    }
   }
  },
  {
   "cell_type": "code",
   "execution_count": null,
   "outputs": [],
   "source": [
    "for r,row in submission_df.iterrows():\n",
    "    if row.text:\n",
    "        doc = nlp(row.text[0])\n",
    "        for ent in doc.ents:\n",
    "            if ent.label_=='PERSON':\n",
    "                print(ent.text, ent.vector)"
   ],
   "metadata": {
    "collapsed": false,
    "pycharm": {
     "name": "#%%\n"
    }
   }
  },
  {
   "cell_type": "markdown",
   "source": [
    "# ALLEN NLP"
   ],
   "metadata": {
    "collapsed": false
   }
  },
  {
   "cell_type": "markdown",
   "source": [
    "# GENSIM"
   ],
   "metadata": {
    "collapsed": false
   }
  },
  {
   "cell_type": "code",
   "execution_count": null,
   "outputs": [],
   "source": [
    "\n",
    "\n"
   ],
   "metadata": {
    "collapsed": false,
    "pycharm": {
     "name": "#%%\n"
    }
   }
  }
 ],
 "metadata": {
  "kernelspec": {
   "display_name": "Python 3",
   "language": "python",
   "name": "python3"
  },
  "language_info": {
   "codemirror_mode": {
    "name": "ipython",
    "version": 2
   },
   "file_extension": ".py",
   "mimetype": "text/x-python",
   "name": "python",
   "nbconvert_exporter": "python",
   "pygments_lexer": "ipython2",
   "version": "2.7.6"
  },
  "pycharm": {
   "stem_cell": {
    "cell_type": "raw",
    "source": [],
    "metadata": {
     "collapsed": false
    }
   }
  }
 },
 "nbformat": 4,
 "nbformat_minor": 0
}