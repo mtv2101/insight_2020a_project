{
 "cells": [
  {
   "cell_type": "code",
   "execution_count": 15,
   "metadata": {
    "collapsed": true,
    "pycharm": {
     "is_executing": false
    }
   },
   "outputs": [],
   "source": [
    "import numpy as np\n",
    "import pandas as pd\n",
    "import timeit\n",
    "import time\n",
    "import json\n",
    "import re\n",
    "import itertools\n",
    "import matplotlib.pyplot as plt\n",
    "import seaborn as sns\n",
    "\n",
    "#import cupy\n",
    "import string\n",
    "from sklearn import linear_model\n",
    "from sklearn.decomposition import LatentDirichletAllocation\n",
    "from sklearn.feature_extraction.text import TfidfVectorizer, CountVectorizer\n",
    "from sklearn.metrics import accuracy_score \n",
    "from sklearn.base import TransformerMixin \n",
    "from sklearn.pipeline import Pipeline\n",
    "from sklearn.svm import LinearSVC\n",
    "from sklearn.model_selection import train_test_split\n",
    "from sklearn.decomposition import PCA\n",
    "from sklearn.mixture import GaussianMixture\n",
    "from sklearn.preprocessing import normalize\n",
    "\n",
    "import spacy\n",
    "from spacy.lang.en import English\n",
    "from spacy.lang.en.stop_words import STOP_WORDS"
   ]
  },
  {
   "cell_type": "code",
   "execution_count": 2,
   "outputs": [],
   "source": [
    "# import some text, in this case restuarant reviews\n",
    "\n",
    "yelp_business_datapath = '/home/matt_valley/PycharmProjects/insight_2020a_project/Resto_names/yelp_dataset/review.json'\n",
    "\n",
    "num_entries = 100\n",
    "users = []\n",
    "with open(yelp_business_datapath) as fl:\n",
    "    for i, line in enumerate(fl):\n",
    "        users.append(json.loads(line))\n",
    "        if i+1 >= num_entries:\n",
    "            break\n",
    "df = pd.DataFrame(users)"
   ],
   "metadata": {
    "collapsed": false,
    "pycharm": {
     "name": "#%%\n",
     "is_executing": false
    }
   }
  },
  {
   "cell_type": "code",
   "execution_count": 2,
   "outputs": [],
   "source": [
    "# IMPORT ACTIVATED INSIGHTS DATA\n",
    "\n",
    "survey_path_1 = '/home/matt_valley/PycharmProjects/insight_2020a_project/Activated_Insights_consulting/AI_survey_data/2017 to mid 2018 comments.csv'\n",
    "survey_path_2 = '/home/matt_valley/PycharmProjects/insight_2020a_project/Activated_Insights_consulting/AI_survey_data/2018 to mid 2019 comments.csv'\n",
    "\n",
    "df = pd.read_csv(survey_path_1, header=1)\n",
    "#df2 = pd.read_csv(survey_path_2, header=1)"
   ],
   "metadata": {
    "collapsed": false,
    "pycharm": {
     "name": "#%%\n",
     "is_executing": false
    }
   }
  },
  {
   "cell_type": "code",
   "execution_count": 3,
   "outputs": [
    {
     "name": "stdout",
     "text": [
      "88978\n",
      "86080\n"
     ],
     "output_type": "stream"
    }
   ],
   "source": [
    "print(len(df))\n",
    "df = df.dropna(how='any')\n",
    "print(len(df))"
   ],
   "metadata": {
    "collapsed": false,
    "pycharm": {
     "name": "#%%\n",
     "is_executing": false
    }
   }
  },
  {
   "cell_type": "code",
   "execution_count": 4,
   "outputs": [
    {
     "data": {
      "text/plain": "   Comment ID  Customer ID  Survey ID  Respondent ID  QID  \\\n0           3         1003          3          50882   61   \n1           5         1003          3          50884   61   \n2           6         1003          3          50886   61   \n3           8         1003          3          50888   61   \n4           9         1003          3          50889   61   \n\n                                                text  \n0                    Kindness, honesty, appreciation  \n1  Everyone is friendly, compassionate and always...  \n2  let office staff PDO on their birthday, encour...  \n3  They go above and beyond to do all the billing...  \n4  I am an independent contractor self employed s...  ",
      "text/html": "<div>\n<style scoped>\n    .dataframe tbody tr th:only-of-type {\n        vertical-align: middle;\n    }\n\n    .dataframe tbody tr th {\n        vertical-align: top;\n    }\n\n    .dataframe thead th {\n        text-align: right;\n    }\n</style>\n<table border=\"1\" class=\"dataframe\">\n  <thead>\n    <tr style=\"text-align: right;\">\n      <th></th>\n      <th>Comment ID</th>\n      <th>Customer ID</th>\n      <th>Survey ID</th>\n      <th>Respondent ID</th>\n      <th>QID</th>\n      <th>text</th>\n    </tr>\n  </thead>\n  <tbody>\n    <tr>\n      <th>0</th>\n      <td>3</td>\n      <td>1003</td>\n      <td>3</td>\n      <td>50882</td>\n      <td>61</td>\n      <td>Kindness, honesty, appreciation</td>\n    </tr>\n    <tr>\n      <th>1</th>\n      <td>5</td>\n      <td>1003</td>\n      <td>3</td>\n      <td>50884</td>\n      <td>61</td>\n      <td>Everyone is friendly, compassionate and always...</td>\n    </tr>\n    <tr>\n      <th>2</th>\n      <td>6</td>\n      <td>1003</td>\n      <td>3</td>\n      <td>50886</td>\n      <td>61</td>\n      <td>let office staff PDO on their birthday, encour...</td>\n    </tr>\n    <tr>\n      <th>3</th>\n      <td>8</td>\n      <td>1003</td>\n      <td>3</td>\n      <td>50888</td>\n      <td>61</td>\n      <td>They go above and beyond to do all the billing...</td>\n    </tr>\n    <tr>\n      <th>4</th>\n      <td>9</td>\n      <td>1003</td>\n      <td>3</td>\n      <td>50889</td>\n      <td>61</td>\n      <td>I am an independent contractor self employed s...</td>\n    </tr>\n  </tbody>\n</table>\n</div>"
     },
     "metadata": {},
     "output_type": "execute_result",
     "execution_count": 4
    }
   ],
   "source": [
    "df = df.rename(columns={\"Comment\": \"text\"})\n",
    "df.head()"
   ],
   "metadata": {
    "collapsed": false,
    "pycharm": {
     "name": "#%%\n",
     "is_executing": false
    }
   }
  },
  {
   "cell_type": "code",
   "execution_count": 5,
   "outputs": [
    {
     "data": {
      "text/plain": "<Figure size 432x288 with 1 Axes>",
      "image/png": "[encoded data removed]"
     },
     "metadata": {
      "needs_background": "light"
     },
     "output_type": "display_data"
    }
   ],
   "source": [
    "text_clean = [len(t) for t in df.text.values]\n",
    "\n",
    "fig,ax = plt.subplots(1,1)\n",
    "ax.hist(text_clean, np.arange(0,1000,10))\n",
    "ax.set_yscale('log')\n",
    "ax.set_ylabel('log(count)')\n",
    "ax.set_xlabel('# characters')\n",
    "plt.savefig('fig.png')"
   ],
   "metadata": {
    "collapsed": false,
    "pycharm": {
     "name": "#%%\n",
     "is_executing": false
    }
   }
  },
  {
   "cell_type": "code",
   "execution_count": 6,
   "outputs": [],
   "source": [
    "# load spacy model\n",
    "\n",
    "model = 'en_core_web_sm' # for testing on laptop\n",
    "#model = 'en_core_web_lg'\n",
    "#model = 'en_vectors_web_lg' # many more words\n",
    "nlp = spacy.load(model)\n",
    "#sentencizer = nlp.create_pipe(\"sentencizer\")\n",
    "#nlp.add_pipe(sentencizer)"
   ],
   "metadata": {
    "collapsed": false,
    "pycharm": {
     "name": "#%%\n",
     "is_executing": false
    }
   }
  },
  {
   "cell_type": "code",
   "execution_count": 7,
   "outputs": [],
   "source": [
    "df = df[:5000]"
   ],
   "metadata": {
    "collapsed": false,
    "pycharm": {
     "name": "#%%\n",
     "is_executing": false
    }
   }
  },
  {
   "cell_type": "code",
   "execution_count": 8,
   "outputs": [],
   "source": [
    "# rudimentary text chunking pipeline\n",
    "\n",
    "stopwords = list(STOP_WORDS)\n",
    "punctuations = string.punctuation\n",
    "parser = English()\n",
    "\n",
    "def spacy_tokenizer(sentence):\n",
    "    mytokens = parser(sentence)\n",
    "    mytokens = [word.lemma_.lower().strip() if word.lemma_ != \"-PRON-\" else word.lower_ for word in mytokens]\n",
    "    mytokens = [word for word in mytokens if word not in stopwords and word not in punctuations]\n",
    "    return mytokens\n",
    "\n",
    "\n",
    "all_sentences = []\n",
    "all_sentence_entities = []\n",
    "all_tokens = []\n",
    "for r, review in enumerate(df.text):\n",
    "    doc = nlp(review)\n",
    "    #tokens = [token.text for token in doc]\n",
    "    tokens = [spacy_tokenizer(s.text) for s in doc]\n",
    "    sentences = [sent for sent in doc.sents]\n",
    "    sentence_entities = [ent.text for ent in doc.ents]\n",
    "    all_tokens.append(tokens)\n",
    "    all_sentences.append(sentences)\n",
    "    all_sentence_entities.append(sentence_entities)\n",
    "    \n",
    "df['tokens'] = all_tokens\n",
    "df['sentences'] = all_sentences\n",
    "df['entities'] = all_sentence_entities"
   ],
   "metadata": {
    "collapsed": false,
    "pycharm": {
     "name": "#%%\n",
     "is_executing": false
    }
   }
  },
  {
   "cell_type": "code",
   "execution_count": 109,
   "outputs": [
    {
     "data": {
      "text/plain": "\"\\n# do it another way, from https://gist.github.com/narulkargunjan/5319ed32d092d1fa7b52fec3a774e0e5\\ncolumns=['text',\\n           'log_probability',\\n           'stop?',\\n           'punctuation?',\\n           'whitespace?',\\n           'number?',\\n           'out of vocab.?']\\ntoken_df = pd.DataFrame(columns=columns)\\n    \\nfor r, review in enumerate(df.text):\\n    doc = nlp(review)\\n    token_attributes = [(token.orth_,\\n                         token.prob,\\n                         token.is_stop,\\n                         token.is_punct,\\n                         token.is_space,\\n                         token.like_num,\\n                         token.is_oov)\\n                        for token in doc]\\n    temp_df = pd.DataFrame(token_attributes, columns=columns)\\n    token_df = token_df.append(temp_df)\\n\""
     },
     "metadata": {},
     "output_type": "execute_result",
     "execution_count": 109
    }
   ],
   "source": [
    "'''\n",
    "# do it another way, from https://gist.github.com/narulkargunjan/5319ed32d092d1fa7b52fec3a774e0e5\n",
    "columns=['text',\n",
    "           'log_probability',\n",
    "           'stop?',\n",
    "           'punctuation?',\n",
    "           'whitespace?',\n",
    "           'number?',\n",
    "           'out of vocab.?']\n",
    "token_df = pd.DataFrame(columns=columns)\n",
    "    \n",
    "for r, review in enumerate(df.text):\n",
    "    doc = nlp(review)\n",
    "    token_attributes = [(token.orth_,\n",
    "                         token.prob,\n",
    "                         token.is_stop,\n",
    "                         token.is_punct,\n",
    "                         token.is_space,\n",
    "                         token.like_num,\n",
    "                         token.is_oov)\n",
    "                        for token in doc]\n",
    "    temp_df = pd.DataFrame(token_attributes, columns=columns)\n",
    "    token_df = token_df.append(temp_df)\n",
    "'''\n"
   ],
   "metadata": {
    "collapsed": false,
    "pycharm": {
     "name": "#%%\n",
     "is_executing": false
    }
   }
  },
  {
   "cell_type": "code",
   "execution_count": 24,
   "outputs": [
    {
     "name": "stdout",
     "text": [
      "done in 0.158s.\n"
     ],
     "output_type": "stream"
    }
   ],
   "source": [
    "# data must be a list of strings\n",
    "data = [sent for sent in df.text]\n",
    "\n",
    "n_samples = 2000\n",
    "n_features = 1000\n",
    "n_components = 12\n",
    "n_top_words = 8\n",
    "\n",
    "tfidf_vectorizer = TfidfVectorizer(max_df=0.95, min_df=2,\n",
    "                                   max_features=n_features,\n",
    "                                   stop_words='english')\n",
    "\n",
    "tf_vectorizer = CountVectorizer(max_df=0.95, min_df=2,\n",
    "                                max_features=n_features,\n",
    "                                stop_words='english')\n",
    "t0 = time.time()\n",
    "tf = tf_vectorizer.fit_transform(data)\n",
    "tfidf = tfidf_vectorizer.fit_transform(data)\n",
    "print(\"done in %0.3fs.\" % (time.time() - t0))\n",
    "\n"
   ],
   "metadata": {
    "collapsed": false,
    "pycharm": {
     "name": "#%%\n",
     "is_executing": false
    }
   }
  },
  {
   "cell_type": "code",
   "execution_count": 25,
   "outputs": [],
   "source": [
    "def print_top_words(model, feature_names, n_top_words):\n",
    "    for topic_idx, topic in enumerate(model.components_):\n",
    "        message = \"Topic #%d: \" % topic_idx\n",
    "        message += \" \".join([feature_names[i]\n",
    "                             for i in topic.argsort()[:-n_top_words - 1:-1]])\n",
    "        print(message)\n",
    "    print()"
   ],
   "metadata": {
    "collapsed": false,
    "pycharm": {
     "name": "#%%\n",
     "is_executing": false
    }
   }
  },
  {
   "cell_type": "code",
   "execution_count": 26,
   "outputs": [
    {
     "name": "stdout",
     "text": [
      "iteration: 1 of max_iter: 20\n",
      "iteration: 2 of max_iter: 20\n",
      "iteration: 3 of max_iter: 20\n",
      "iteration: 4 of max_iter: 20\n",
      "iteration: 5 of max_iter: 20\n",
      "iteration: 6 of max_iter: 20\n",
      "iteration: 7 of max_iter: 20\n",
      "iteration: 8 of max_iter: 20\n",
      "iteration: 9 of max_iter: 20\n",
      "iteration: 10 of max_iter: 20\n",
      "iteration: 11 of max_iter: 20\n",
      "iteration: 12 of max_iter: 20\n",
      "iteration: 13 of max_iter: 20\n",
      "iteration: 14 of max_iter: 20\n",
      "iteration: 15 of max_iter: 20\n",
      "iteration: 16 of max_iter: 20\n",
      "iteration: 17 of max_iter: 20\n",
      "iteration: 18 of max_iter: 20\n",
      "iteration: 19 of max_iter: 20\n",
      "iteration: 20 of max_iter: 20\n",
      "['10', '100', '12', '24', '24hr', '30', 'ability', 'able', 'absolutely', 'accessible', 'accomplish', 'achieve', 'acknowledge', 'acres', 'act', 'active', 'activities', 'actually', 'address', 'adequate', 'admin', 'administration', 'administrator', 'adults', 'advance', 'advancement', 'affordable', 'age', 'agencies', 'agency', 'aging', 'ago', 'aides', 'alacare', 'allow', 'allowed', 'allowing', 'allows', 'alot', 'amazing', 'annual', 'answer', 'apart', 'apply', 'appreciate', 'appreciated', 'appreciation', 'appreciative', 'approach', 'approachable', 'appropriate', 'area', 'areas', 'aren', 'arms', 'asbury', 'ask', 'assigned', 'assignments', 'assist', 'assistance', 'assistant', 'assisted', 'associate', 'associates', 'atmosphere', 'attend', 'attention', 'attitude', 'autonomy', 'available', 'awards', 'away', 'awesome', 'background', 'bad', 'balance', 'based', 'basis', 'beautiful', 'believe', 'believes', 'benefit', 'benefits', 'best', 'better', 'big', 'birthday', 'birthdays', 'bit', 'blessed', 'blessing', 'body', 'bond', 'bonus', 'bonuses', 'boss', 'box', 'branch', 'bring', 'brookestone', 'build', 'building', 'buildings', 'built', 'business', 'busy', 'called', 'calling', 'campus', 'card', 'cards', 'care', 'cared', 'career', 'caregiver', 'caregivers', 'cares', 'caring', 'carry', 'case', 'celebrate', 'celebrated', 'celebrating', 'celebrations', 'center', 'centered', 'ceo', 'certain', 'challenge', 'chance', 'change', 'changed', 'changes', 'changing', 'check', 'cherished', 'children', 'choice', 'choose', 'christian', 'christmas', 'class', 'clean', 'cleaning', 'clear', 'client', 'clients', 'close', 'cna', 'cnas', 'come', 'comes', 'comfortable', 'coming', 'comment', 'comments', 'commitment', 'committed', 'common', 'communicate', 'communication', 'communities', 'community', 'companies', 'companions', 'company', 'compared', 'compassion', 'compassionate', 'complain', 'complete', 'concern', 'concerned', 'concerns', 'concierge', 'connected', 'connection', 'consider', 'consistently', 'constant', 'constantly', 'contact', 'continually', 'continue', 'continuing', 'contribute', 'cook', 'cooperation', 'cooperative', 'core', 'corporate', 'couldn', 'count', 'course', 'coworker', 'coworkers', 'cream', 'create', 'creates', 'creative', 'creek', 'crisis', 'culture', 'current', 'currently', 'customer', 'customers', 'daily', 'day', 'days', 'deal', 'death', 'decent', 'decision', 'decisions', 'dedicated', 'dedication', 'deeply', 'definitely', 'degree', 'dementia', 'department', 'departments', 'deserve', 'desire', 'develop', 'developing', 'development', 'did', 'difference', 'different', 'difficult', 'dignity', 'dining', 'direct', 'director', 'diversity', 'doctor', 'does', 'doesn', 'doing', 'don', 'dont', 'door', 'doors', 'dress', 'drive', 'driven', 'drives', 'duties', 'dyk', 'eagle', 'easier', 'easily', 'easy', 'eat', 'ed', 'education', 'educational', 'effective', 'efficient', 'effort', 'efforts', 'elderly', 'elders', 'email', 'emails', 'embrace', 'emergency', 'emphasis', 'employed', 'employee', 'employees', 'employment', 'encourage', 'encouraged', 'encouragement', 'encourages', 'encouraging', 'end', 'energy', 'engaged', 'engagement', 'enjoy', 'enjoyable', 'ensure', 'entire', 'environment', 'equal', 'equally', 'equipment', 'erickson', 'es', 'especially', 'ethic', 'ethical', 'events', 'everybody', 'everyday', 'ex', 'example', 'excellence', 'excellent', 'exceptional', 'exciting', 'executive', 'executives', 'expectations', 'expected', 'experience', 'experienced', 'experiences', 'express', 'extended', 'extra', 'extremely', 'face', 'faces', 'facilities', 'facility', 'fact', 'fair', 'fairly', 'faith', 'families', 'family', 'fantastic', 'far', 'fast', 'favoritism', 'fear', 'feedback', 'feel', 'feeling', 'feels', 'fellow', 'felt', 'field', 'fieldstone', 'financial', 'finding', 'fit', 'fitness', 'flexibility', 'flexible', 'floor', 'focus', 'focused', 'focuses', 'follow', 'food', 'forward', 'foundation', 'free', 'freedom', 'friendliness', 'friendly', 'friends', 'frontline', 'fulfilling', 'fully', 'fun', 'fund', 'fundraisers', 'funds', 'future', 'gave', 'generally', 'genuine', 'genuinely', 'gets', 'getting', 'gift', 'gifts', 'given', 'gives', 'giving', 'glad', 'goal', 'goals', 'god', 'goes', 'going', 'gold', 'good', 'got', 'gotten', 'grateful', 'great', 'greet', 'grounds', 'group', 'grow', 'growing', 'growth', 'guests', 'half', 'hall', 'hand', 'handling', 'hands', 'happen', 'happening', 'happens', 'happy', 'hard', 'harder', 'haven', 'having', 'health', 'healthcare', 'healthy', 'hear', 'heard', 'heart', 'hearts', 'held', 'hello', 'help', 'helped', 'helpful', 'helping', 'helps', 'hi', 'high', 'higher', 'highly', 'hire', 'hired', 'hiring', 'hoc', 'hold', 'holds', 'holiday', 'holidays', 'home', 'homes', 'homey', 'honest', 'honestly', 'honesty', 'honor', 'honored', 'hope', 'hospice', 'hospital', 'hour', 'hours', 'house', 'household', 'housekeeping', 'hr', 'huge', 'human', 'ice', 'ideas', 'immediately', 'impact', 'implement', 'importance', 'important', 'impressed', 'improve', 'incentives', 'includes', 'including', 'incredible', 'independent', 'individual', 'individuals', 'industry', 'information', 'informed', 'innovative', 'input', 'instead', 'insurance', 'integrity', 'interact', 'interaction', 'interview', 'investment', 'inviting', 'involved', 'isn', 'issue', 'issues', 'jack', 'jesus', 'job', 'jobs', 'journey', 'joy', 'just', 'keeping', 'keeps', 'kept', 'key', 'kids', 'kind', 'kindness', 'kitchen', 'know', 'knowing', 'knowledgeable', 'known', 'knows', 'lack', 'large', 'laugh', 'lead', 'leader', 'leaders', 'leadership', 'leads', 'learn', 'learning', 'leave', 'left', 'let', 'level', 'levels', 'life', 'light', 'lights', 'like', 'likes', 'line', 'listen', 'listening', 'listens', 'literally', 'little', 'live', 'lived', 'lives', 'living', 'local', 'location', 'long', 'longer', 'look', 'looking', 'looks', 'los', 'lot', 'lots', 'love', 'loved', 'loving', 'low', 'ltc', 'lunch', 'main', 'maintained', 'major', 'majority', 'make', 'makes', 'making', 'manage', 'management', 'manager', 'managers', 'manner', 'matter', 'matters', 'maybe', 'meals', 'mean', 'meaningful', 'means', 'medical', 'meet', 'meeting', 'meetings', 'member', 'members', 'memory', 'mentor', 'met', 'mile', 'mileage', 'mind', 'minutes', 'mission', 'model', 'mom', 'moment', 'money', 'month', 'monthly', 'months', 'morale', 'morning', 'mother', 'motivation', 'moving', 'muy', 'na', 'need', 'needed', 'needs', 'neighborhoods', 'new', 'nice', 'night', 'non', 'nope', 'number', 'nurse', 'nurses', 'nursing', 'occasions', 'offer', 'offered', 'offering', 'offers', 'office', 'offices', 'ok', 'okay', 'old', 'older', 'ones', 'open', 'opinion', 'opportunities', 'opportunity', 'options', 'order', 'organization', 'organizations', 'organized', 'orientation', 'oriented', 'outcomes', 'outside', 'outstanding', 'overall', 'owned', 'owner', 'owners', 'pace', 'package', 'paid', 'park', 'participants', 'participate', 'parties', 'party', 'pass', 'passed', 'passion', 'passionate', 'past', 'patient', 'patients', 'pay', 'pays', 'peace', 'peers', 'pension', 'people', 'peoples', 'perfect', 'perks', 'person', 'personable', 'personal', 'personalities', 'personality', 'personally', 'philosophy', 'phoenix', 'phone', 'physical', 'pick', 'place', 'places', 'plan', 'planetree', 'play', 'players', 'pleasant', 'pleasure', 'plus', 'point', 'policy', 'poor', 'population', 'position', 'positions', 'positive', 'possible', 'ppl', 'practices', 'praise', 'pray', 'president', 'pretty', 'pride', 'priority', 'problem', 'problems', 'process', 'processes', 'professional', 'professionally', 'profit', 'program', 'programs', 'promise', 'promote', 'promoted', 'promotes', 'promoting', 'properly', 'proud', 'provide', 'provided', 'provides', 'providing', 'pt', 'pto', 'pull', 'purpose', 'puts', 'putting', 'quality', 'question', 'questions', 'quite', 'raise', 'rare', 'rate', 'reach', 'ready', 'real', 'really', 'reason', 'receive', 'received', 'recently', 'recognition', 'recognize', 'recognized', 'recognizes', 'recognizing', 'refreshing', 'regarding', 'regardless', 'reimbursement', 'related', 'relationship', 'relationships', 'report', 'reputation', 'residence', 'resident', 'residents', 'resources', 'respect', 'respected', 'respectful', 'respond', 'responsibilities', 'responsibility', 'rest', 'results', 'retire', 'retirement', 'reward', 'rewarded', 'rewarding', 'right', 'role', 'room', 'rooms', 'run', 'running', 'safe', 'safety', 'said', 'salary', 'satisfaction', 'say', 'saying', 'says', 'schedule', 'schedules', 'scheduling', 'school', 'seabrook', 'second', 'seeing', 'seek', 'seen', 'sees', 'self', 'sending', 'senior', 'seniors', 'sense', 'sent', 'seriously', 'servant', 'serve', 'serves', 'service', 'services', 'serving', 'set', 'sets', 'setting', 'share', 'shift', 'shifts', 'shining', 'short', 'shows', 'sick', 'simply', 'single', 'sit', 'situation', 'situations', 'skills', 'small', 'smile', 'smiles', 'smiling', 'snacks', 'social', 'space', 'speak', 'special', 'specific', 'specifically', 'spend', 'spirit', 'spiritual', 'staff', 'staffed', 'staffing', 'staffs', 'standard', 'standards', 'stands', 'start', 'started', 'starting', 'state', 'statement', 'stay', 'step', 'stop', 'stories', 'stress', 'stressful', 'strive', 'strives', 'striving', 'strong', 'structure', 'students', 'succeed', 'success', 'successful', 'suggestions', 'super', 'supervisor', 'supervisors', 'supplies', 'support', 'supported', 'supporting', 'supportive', 'supports', 'sure', 'survey', 'taken', 'takes', 'taking', 'talk', 'tasks', 'teach', 'team', 'teams', 'teamwork', 'tell', 'telling', 'term', 'text', 'thank', 'thats', 'thing', 'things', 'think', 'thinking', 'thinks', 'thought', 'thoughtful', 'thrive', 'time', 'timely', 'times', 'title', 'today', 'toilet', 'told', 'took', 'town', 'training', 'travel', 'treat', 'treated', 'treats', 'tries', 'true', 'truely', 'truly', 'trust', 'trusted', 'try', 'trying', 'tuition', 'turn', 'turned', 'type', 'umrc', 'understand', 'understanding', 'unique', 'uniqueness', 'unit', 'unlike', 'unusual', 'upper', 'use', 'used', 'usually', 'vacation', 'value', 'valued', 'values', 'van', 'variety', 've', 'vetter', 'view', 'villa', 'village', 'vision', 'visitors', 'voice', 'volunteer', 'volunteers', 'wages', 'walk', 'walking', 'walks', 'waltonwood', 'want', 'wants', 'warm', 'wasn', 'way', 'ways', 'week', 'weeks', 'welcome', 'welcomed', 'welcoming', 'wellness', 'wesley', 'wesleylife', 'willing', 'willingness', 'wish', 'wonderful', 'word', 'words', 'work', 'worked', 'worker', 'workers', 'working', 'workplace', 'works', 'world', 'worth', 'worthwhile', 'wouldn', 'wrong', 'year', 'years', 'yes', 'young']\n",
      "['10', '100', '12', '24', '24hr', '30', 'ability', 'able', 'absolutely', 'accessible', 'accomplish', 'achieve', 'acknowledge', 'acres', 'act', 'active', 'activities', 'actually', 'address', 'adequate', 'admin', 'administration', 'administrator', 'adults', 'advance', 'advancement', 'affordable', 'age', 'agencies', 'agency', 'aging', 'ago', 'aides', 'alacare', 'allow', 'allowed', 'allowing', 'allows', 'alot', 'amazing', 'annual', 'answer', 'apart', 'apply', 'appreciate', 'appreciated', 'appreciation', 'appreciative', 'approach', 'approachable', 'appropriate', 'area', 'areas', 'aren', 'arms', 'asbury', 'ask', 'assigned', 'assignments', 'assist', 'assistance', 'assistant', 'assisted', 'associate', 'associates', 'atmosphere', 'attend', 'attention', 'attitude', 'autonomy', 'available', 'awards', 'away', 'awesome', 'background', 'bad', 'balance', 'based', 'basis', 'beautiful', 'believe', 'believes', 'benefit', 'benefits', 'best', 'better', 'big', 'birthday', 'birthdays', 'bit', 'blessed', 'blessing', 'body', 'bond', 'bonus', 'bonuses', 'boss', 'box', 'branch', 'bring', 'brookestone', 'build', 'building', 'buildings', 'built', 'business', 'busy', 'called', 'calling', 'campus', 'card', 'cards', 'care', 'cared', 'career', 'caregiver', 'caregivers', 'cares', 'caring', 'carry', 'case', 'celebrate', 'celebrated', 'celebrating', 'celebrations', 'center', 'centered', 'ceo', 'certain', 'challenge', 'chance', 'change', 'changed', 'changes', 'changing', 'check', 'cherished', 'children', 'choice', 'choose', 'christian', 'christmas', 'class', 'clean', 'cleaning', 'clear', 'client', 'clients', 'close', 'cna', 'cnas', 'come', 'comes', 'comfortable', 'coming', 'comment', 'comments', 'commitment', 'committed', 'common', 'communicate', 'communication', 'communities', 'community', 'companies', 'companions', 'company', 'compared', 'compassion', 'compassionate', 'complain', 'complete', 'concern', 'concerned', 'concerns', 'concierge', 'connected', 'connection', 'consider', 'consistently', 'constant', 'constantly', 'contact', 'continually', 'continue', 'continuing', 'contribute', 'cook', 'cooperation', 'cooperative', 'core', 'corporate', 'couldn', 'count', 'course', 'coworker', 'coworkers', 'cream', 'create', 'creates', 'creative', 'creek', 'crisis', 'culture', 'current', 'currently', 'customer', 'customers', 'daily', 'day', 'days', 'deal', 'death', 'decent', 'decision', 'decisions', 'dedicated', 'dedication', 'deeply', 'definitely', 'degree', 'dementia', 'department', 'departments', 'deserve', 'desire', 'develop', 'developing', 'development', 'did', 'difference', 'different', 'difficult', 'dignity', 'dining', 'direct', 'director', 'diversity', 'doctor', 'does', 'doesn', 'doing', 'don', 'dont', 'door', 'doors', 'dress', 'drive', 'driven', 'drives', 'duties', 'dyk', 'eagle', 'easier', 'easily', 'easy', 'eat', 'ed', 'education', 'educational', 'effective', 'efficient', 'effort', 'efforts', 'elderly', 'elders', 'email', 'emails', 'embrace', 'emergency', 'emphasis', 'employed', 'employee', 'employees', 'employment', 'encourage', 'encouraged', 'encouragement', 'encourages', 'encouraging', 'end', 'energy', 'engaged', 'engagement', 'enjoy', 'enjoyable', 'ensure', 'entire', 'environment', 'equal', 'equally', 'equipment', 'erickson', 'es', 'especially', 'ethic', 'ethical', 'events', 'everybody', 'everyday', 'ex', 'example', 'excellence', 'excellent', 'exceptional', 'exciting', 'executive', 'executives', 'expectations', 'expected', 'experience', 'experienced', 'experiences', 'express', 'extended', 'extra', 'extremely', 'face', 'faces', 'facilities', 'facility', 'fact', 'fair', 'fairly', 'faith', 'families', 'family', 'fantastic', 'far', 'fast', 'favoritism', 'fear', 'feedback', 'feel', 'feeling', 'feels', 'fellow', 'felt', 'field', 'fieldstone', 'financial', 'finding', 'fit', 'fitness', 'flexibility', 'flexible', 'floor', 'focus', 'focused', 'focuses', 'follow', 'food', 'forward', 'foundation', 'free', 'freedom', 'friendliness', 'friendly', 'friends', 'frontline', 'fulfilling', 'fully', 'fun', 'fund', 'fundraisers', 'funds', 'future', 'gave', 'generally', 'genuine', 'genuinely', 'gets', 'getting', 'gift', 'gifts', 'given', 'gives', 'giving', 'glad', 'goal', 'goals', 'god', 'goes', 'going', 'gold', 'good', 'got', 'gotten', 'grateful', 'great', 'greet', 'grounds', 'group', 'grow', 'growing', 'growth', 'guests', 'half', 'hall', 'hand', 'handling', 'hands', 'happen', 'happening', 'happens', 'happy', 'hard', 'harder', 'haven', 'having', 'health', 'healthcare', 'healthy', 'hear', 'heard', 'heart', 'hearts', 'held', 'hello', 'help', 'helped', 'helpful', 'helping', 'helps', 'hi', 'high', 'higher', 'highly', 'hire', 'hired', 'hiring', 'hoc', 'hold', 'holds', 'holiday', 'holidays', 'home', 'homes', 'homey', 'honest', 'honestly', 'honesty', 'honor', 'honored', 'hope', 'hospice', 'hospital', 'hour', 'hours', 'house', 'household', 'housekeeping', 'hr', 'huge', 'human', 'ice', 'ideas', 'immediately', 'impact', 'implement', 'importance', 'important', 'impressed', 'improve', 'incentives', 'includes', 'including', 'incredible', 'independent', 'individual', 'individuals', 'industry', 'information', 'informed', 'innovative', 'input', 'instead', 'insurance', 'integrity', 'interact', 'interaction', 'interview', 'investment', 'inviting', 'involved', 'isn', 'issue', 'issues', 'jack', 'jesus', 'job', 'jobs', 'journey', 'joy', 'just', 'keeping', 'keeps', 'kept', 'key', 'kids', 'kind', 'kindness', 'kitchen', 'know', 'knowing', 'knowledgeable', 'known', 'knows', 'lack', 'large', 'laugh', 'lead', 'leader', 'leaders', 'leadership', 'leads', 'learn', 'learning', 'leave', 'left', 'let', 'level', 'levels', 'life', 'light', 'lights', 'like', 'likes', 'line', 'listen', 'listening', 'listens', 'literally', 'little', 'live', 'lived', 'lives', 'living', 'local', 'location', 'long', 'longer', 'look', 'looking', 'looks', 'los', 'lot', 'lots', 'love', 'loved', 'loving', 'low', 'ltc', 'lunch', 'main', 'maintained', 'major', 'majority', 'make', 'makes', 'making', 'manage', 'management', 'manager', 'managers', 'manner', 'matter', 'matters', 'maybe', 'meals', 'mean', 'meaningful', 'means', 'medical', 'meet', 'meeting', 'meetings', 'member', 'members', 'memory', 'mentor', 'met', 'mile', 'mileage', 'mind', 'minutes', 'mission', 'model', 'mom', 'moment', 'money', 'month', 'monthly', 'months', 'morale', 'morning', 'mother', 'motivation', 'moving', 'muy', 'na', 'need', 'needed', 'needs', 'neighborhoods', 'new', 'nice', 'night', 'non', 'nope', 'number', 'nurse', 'nurses', 'nursing', 'occasions', 'offer', 'offered', 'offering', 'offers', 'office', 'offices', 'ok', 'okay', 'old', 'older', 'ones', 'open', 'opinion', 'opportunities', 'opportunity', 'options', 'order', 'organization', 'organizations', 'organized', 'orientation', 'oriented', 'outcomes', 'outside', 'outstanding', 'overall', 'owned', 'owner', 'owners', 'pace', 'package', 'paid', 'park', 'participants', 'participate', 'parties', 'party', 'pass', 'passed', 'passion', 'passionate', 'past', 'patient', 'patients', 'pay', 'pays', 'peace', 'peers', 'pension', 'people', 'peoples', 'perfect', 'perks', 'person', 'personable', 'personal', 'personalities', 'personality', 'personally', 'philosophy', 'phoenix', 'phone', 'physical', 'pick', 'place', 'places', 'plan', 'planetree', 'play', 'players', 'pleasant', 'pleasure', 'plus', 'point', 'policy', 'poor', 'population', 'position', 'positions', 'positive', 'possible', 'ppl', 'practices', 'praise', 'pray', 'president', 'pretty', 'pride', 'priority', 'problem', 'problems', 'process', 'processes', 'professional', 'professionally', 'profit', 'program', 'programs', 'promise', 'promote', 'promoted', 'promotes', 'promoting', 'properly', 'proud', 'provide', 'provided', 'provides', 'providing', 'pt', 'pto', 'pull', 'purpose', 'puts', 'putting', 'quality', 'question', 'questions', 'quite', 'raise', 'rare', 'rate', 'reach', 'ready', 'real', 'really', 'reason', 'receive', 'received', 'recently', 'recognition', 'recognize', 'recognized', 'recognizes', 'recognizing', 'refreshing', 'regarding', 'regardless', 'reimbursement', 'related', 'relationship', 'relationships', 'report', 'reputation', 'residence', 'resident', 'residents', 'resources', 'respect', 'respected', 'respectful', 'respond', 'responsibilities', 'responsibility', 'rest', 'results', 'retire', 'retirement', 'reward', 'rewarded', 'rewarding', 'right', 'role', 'room', 'rooms', 'run', 'running', 'safe', 'safety', 'said', 'salary', 'satisfaction', 'say', 'saying', 'says', 'schedule', 'schedules', 'scheduling', 'school', 'seabrook', 'second', 'seeing', 'seek', 'seen', 'sees', 'self', 'sending', 'senior', 'seniors', 'sense', 'sent', 'seriously', 'servant', 'serve', 'serves', 'service', 'services', 'serving', 'set', 'sets', 'setting', 'share', 'shift', 'shifts', 'shining', 'short', 'shows', 'sick', 'simply', 'single', 'sit', 'situation', 'situations', 'skills', 'small', 'smile', 'smiles', 'smiling', 'snacks', 'social', 'space', 'speak', 'special', 'specific', 'specifically', 'spend', 'spirit', 'spiritual', 'staff', 'staffed', 'staffing', 'staffs', 'standard', 'standards', 'stands', 'start', 'started', 'starting', 'state', 'statement', 'stay', 'step', 'stop', 'stories', 'stress', 'stressful', 'strive', 'strives', 'striving', 'strong', 'structure', 'students', 'succeed', 'success', 'successful', 'suggestions', 'super', 'supervisor', 'supervisors', 'supplies', 'support', 'supported', 'supporting', 'supportive', 'supports', 'sure', 'survey', 'taken', 'takes', 'taking', 'talk', 'tasks', 'teach', 'team', 'teams', 'teamwork', 'tell', 'telling', 'term', 'text', 'thank', 'thats', 'thing', 'things', 'think', 'thinking', 'thinks', 'thought', 'thoughtful', 'thrive', 'time', 'timely', 'times', 'title', 'today', 'toilet', 'told', 'took', 'town', 'training', 'travel', 'treat', 'treated', 'treats', 'tries', 'true', 'truely', 'truly', 'trust', 'trusted', 'try', 'trying', 'tuition', 'turn', 'turned', 'type', 'umrc', 'understand', 'understanding', 'unique', 'uniqueness', 'unit', 'unlike', 'unusual', 'upper', 'use', 'used', 'usually', 'vacation', 'value', 'valued', 'values', 'van', 'variety', 've', 'vetter', 'view', 'villa', 'village', 'vision', 'visitors', 'voice', 'volunteer', 'volunteers', 'wages', 'walk', 'walking', 'walks', 'waltonwood', 'want', 'wants', 'warm', 'wasn', 'way', 'ways', 'week', 'weeks', 'welcome', 'welcomed', 'welcoming', 'wellness', 'wesley', 'wesleylife', 'willing', 'willingness', 'wish', 'wonderful', 'word', 'words', 'work', 'worked', 'worker', 'workers', 'working', 'workplace', 'works', 'world', 'worth', 'worthwhile', 'wouldn', 'wrong', 'year', 'years', 'yes', 'young']\n"
     ],
     "output_type": "stream"
    }
   ],
   "source": [
    "#Do LDA\n",
    "\n",
    "lda = LatentDirichletAllocation(n_components=n_components,random_state=0, verbose=1, max_iter=20)\n",
    "lda.fit(tfidf)\n",
    "\n",
    "tf_feature_names = tf_vectorizer.get_feature_names()\n",
    "tfidf_feature_names = tfidf_vectorizer.get_feature_names()\n",
    "\n",
    "print(tf_feature_names)\n",
    "print(tfidf_feature_names)"
   ],
   "metadata": {
    "collapsed": false,
    "pycharm": {
     "name": "#%%\n",
     "is_executing": false
    }
   }
  },
  {
   "cell_type": "code",
   "execution_count": 27,
   "outputs": [
    {
     "name": "stdout",
     "text": [
      "Topic #0: good benefits hours communication understanding respect helpful flexible\n",
      "Topic #1: residents care coworkers love work staff best better\n",
      "Topic #2: family atmosphere think oriented pay treat work live\n",
      "Topic #3: people love work wonderful working great care job\n",
      "Topic #4: work great place friendly team environment yes welcoming\n",
      "Topic #5: na teamwork mission really care lives residents values\n",
      "Topic #6: caring schedule flexibility flexible supportive helping help work\n",
      "Topic #7: workers staff cares management employees great residents works\n",
      "Topic #8: family like feel home just feels make work\n",
      "Topic #9: nice people resident different special beautiful amazing clients\n",
      "Topic #10: unique clean employees support training activities families care\n",
      "Topic #11: company employee culture pto recognition organization christian villa\n",
      "\n"
     ],
     "output_type": "stream"
    }
   ],
   "source": [
    "print_top_words(lda, tfidf_feature_names, n_top_words)"
   ],
   "metadata": {
    "collapsed": false,
    "pycharm": {
     "name": "#%%\n",
     "is_executing": false
    }
   }
  },
  {
   "cell_type": "code",
   "execution_count": 114,
   "outputs": [
    {
     "name": "stdout",
     "text": [
      "(2745, 2)\n"
     ],
     "output_type": "stream"
    },
    {
     "data": {
      "text/plain": "                                                  Message  Target\nYelp 0                                 Crust is not good.       0\n     1          Not tasty and the texture was just nasty.       0\n     2  Stopped by during the late May bank holiday of...       1\n     3  The selection on the menu was great and so wer...       1\n     4     Now I am getting angry and I want my damn pho.       0",
      "text/html": "<div>\n<style scoped>\n    .dataframe tbody tr th:only-of-type {\n        vertical-align: middle;\n    }\n\n    .dataframe tbody tr th {\n        vertical-align: top;\n    }\n\n    .dataframe thead th {\n        text-align: right;\n    }\n</style>\n<table border=\"1\" class=\"dataframe\">\n  <thead>\n    <tr style=\"text-align: right;\">\n      <th></th>\n      <th></th>\n      <th>Message</th>\n      <th>Target</th>\n    </tr>\n  </thead>\n  <tbody>\n    <tr>\n      <th rowspan=\"5\" valign=\"top\">Yelp</th>\n      <th>0</th>\n      <td>Crust is not good.</td>\n      <td>0</td>\n    </tr>\n    <tr>\n      <th>1</th>\n      <td>Not tasty and the texture was just nasty.</td>\n      <td>0</td>\n    </tr>\n    <tr>\n      <th>2</th>\n      <td>Stopped by during the late May bank holiday of...</td>\n      <td>1</td>\n    </tr>\n    <tr>\n      <th>3</th>\n      <td>The selection on the menu was great and so wer...</td>\n      <td>1</td>\n    </tr>\n    <tr>\n      <th>4</th>\n      <td>Now I am getting angry and I want my damn pho.</td>\n      <td>0</td>\n    </tr>\n  </tbody>\n</table>\n</div>"
     },
     "metadata": {},
     "output_type": "execute_result",
     "execution_count": 114
    }
   ],
   "source": [
    "# SENTIMENT ANALYSIS\n",
    "\n",
    "# see: From Group to Individual Labels using Deep Features', Kotzias et. al,. KDD 2015 \n",
    "# http://archive.ics.uci.edu/ml/datasets/Sentiment+Labelled+Sentences\n",
    "\n",
    "\n",
    "\n",
    "# Load our dataset\n",
    "df_yelp = pd.read_table('~/PycharmProjects/insight_2020a_project/Activated_Insights_consulting/sentiment_labelled_sentences/yelp_labelled.txt')\n",
    "df_imdb = pd.read_table('~/PycharmProjects/insight_2020a_project/Activated_Insights_consulting/sentiment_labelled_sentences/imdb_labelled.txt')\n",
    "df_amz = pd.read_table('~/PycharmProjects/insight_2020a_project/Activated_Insights_consulting/sentiment_labelled_sentences/amazon_cells_labelled.txt')\n",
    "\n",
    "frames = [df_yelp,df_imdb,df_amz]\n",
    "\n",
    "for colname in frames:\n",
    "    colname.columns = [\"Message\",\"Target\"]\n",
    "    \n",
    "# Assign a Key to Make it Easier\n",
    "keys = ['Yelp','IMDB','Amazon']\n",
    "sentiment_df = pd.concat(frames,keys=keys)\n",
    "\n",
    "print(sentiment_df.shape)\n",
    "sentiment_df.head()"
   ],
   "metadata": {
    "collapsed": false,
    "pycharm": {
     "name": "#%%\n",
     "is_executing": false
    }
   }
  },
  {
   "cell_type": "code",
   "execution_count": 115,
   "outputs": [],
   "source": [
    "sentiment_model = spacy.load(model)\n",
    "stopwords = list(STOP_WORDS)\n",
    "punctuations = string.punctuation\n",
    "parser = English()"
   ],
   "metadata": {
    "collapsed": false,
    "pycharm": {
     "name": "#%%\n",
     "is_executing": false
    }
   }
  },
  {
   "cell_type": "code",
   "execution_count": 116,
   "outputs": [],
   "source": [
    "# from https://github.com/Jcharis/Natural-Language-Processing-Tutorials/blob/master/Text%20Classification%20With%20Machine%20Learning,SpaCy,Sklearn(Sentiment%20Analysis)/Text%20Classification%20&%20Sentiment%20Analysis%20with%20SpaCy,Sklearn.ipynb\n",
    "\n",
    "def spacy_tokenizer(sentence):\n",
    "    mytokens = parser(sentence)\n",
    "    mytokens = [word.lemma_.lower().strip() if word.lemma_ != \"-PRON-\" else word.lower_ for word in mytokens]\n",
    "    mytokens = [word for word in mytokens if word not in stopwords and word not in punctuations]\n",
    "    return mytokens\n",
    "\n",
    "tokens = [spacy_tokenizer(s[0].text) for s in df.sentences]\n",
    "    "
   ],
   "metadata": {
    "collapsed": false,
    "pycharm": {
     "name": "#%%\n",
     "is_executing": false
    }
   }
  },
  {
   "cell_type": "code",
   "execution_count": 117,
   "outputs": [],
   "source": [
    "#Custom transformer using spaCy \n",
    "class predictors(TransformerMixin):\n",
    "    def transform(self, X, **transform_params):\n",
    "        return [clean_text(text) for text in X]\n",
    "    def fit(self, X, y=None, **fit_params):\n",
    "        return self\n",
    "    def get_params(self, deep=True):\n",
    "        return {}\n",
    "\n",
    "# Basic function to clean the text \n",
    "def clean_text(text):     \n",
    "    return text.strip().lower()\n",
    "\n",
    "\n",
    "# Vectorization\n",
    "vectorizer = CountVectorizer(tokenizer = spacy_tokenizer, ngram_range=(1,1)) \n",
    "classifier = LinearSVC()\n",
    "\n",
    "\n",
    "# Features and Labels\n",
    "X = sentiment_df['Message']\n",
    "ylabels = sentiment_df['Target']\n",
    "\n",
    "X_train, X_test, y_train, y_test = train_test_split(X, ylabels, test_size=0.2, random_state=42)\n",
    "\n",
    "# Create the  pipeline to clean, tokenize, vectorize, and classify \n",
    "pipe = Pipeline([(\"cleaner\", predictors()),\n",
    "                 ('vectorizer', vectorizer),\n",
    "                 ('classifier', classifier)])"
   ],
   "metadata": {
    "collapsed": false,
    "pycharm": {
     "name": "#%%\n",
     "is_executing": false
    }
   }
  },
  {
   "cell_type": "code",
   "execution_count": 118,
   "outputs": [
    {
     "data": {
      "text/plain": "Pipeline(memory=None,\n         steps=[('cleaner', <__main__.predictors object at 0x7fab650d3e90>),\n                ('vectorizer',\n                 CountVectorizer(analyzer='word', binary=False,\n                                 decode_error='strict',\n                                 dtype=<class 'numpy.int64'>, encoding='utf-8',\n                                 input='content', lowercase=True, max_df=1.0,\n                                 max_features=None, min_df=1,\n                                 ngram_range=(1, 1), preprocessor=None,\n                                 stop_words=None, strip_accents=None,\n                                 token_pattern='(?u)\\\\b\\\\w\\\\w+\\\\b',\n                                 tokenizer=<function spacy_tokenizer at 0x7fab63024440>,\n                                 vocabulary=None)),\n                ('classifier',\n                 LinearSVC(C=1.0, class_weight=None, dual=True,\n                           fit_intercept=True, intercept_scaling=1,\n                           loss='squared_hinge', max_iter=1000,\n                           multi_class='ovr', penalty='l2', random_state=None,\n                           tol=0.0001, verbose=0))],\n         verbose=False)"
     },
     "metadata": {},
     "output_type": "execute_result",
     "execution_count": 118
    }
   ],
   "source": [
    "# Fit our data\n",
    "pipe.fit(X_train,y_train)\n"
   ],
   "metadata": {
    "collapsed": false,
    "pycharm": {
     "name": "#%%\n",
     "is_executing": false
    }
   }
  },
  {
   "cell_type": "code",
   "execution_count": 119,
   "outputs": [],
   "source": [
    "# Predicting with a test dataset\n",
    "sample_prediction = pipe.predict(X_test)"
   ],
   "metadata": {
    "collapsed": false,
    "pycharm": {
     "name": "#%%\n",
     "is_executing": false
    }
   }
  },
  {
   "cell_type": "code",
   "execution_count": 120,
   "outputs": [
    {
     "name": "stdout",
     "text": [
      "Test accuracy:  0.8069216757741348\n",
      "Train accuracy:  0.9895264116575592\n"
     ],
     "output_type": "stream"
    }
   ],
   "source": [
    "# Accuracy\n",
    "print(\"Test accuracy: \",pipe.score(X_test,y_test))\n",
    "print(\"Train accuracy: \",pipe.score(X_train,y_train))"
   ],
   "metadata": {
    "collapsed": false,
    "pycharm": {
     "name": "#%%\n",
     "is_executing": false
    }
   }
  },
  {
   "cell_type": "code",
   "execution_count": 4,
   "outputs": [],
   "source": [
    "# VECTORIZE SENTENCES AND SENT FRAGMENTS\n",
    "\n",
    "model = 'en_core_web_sm' # for testing on laptop\n",
    "#model = 'en_core_web_lg'\n",
    "#model = 'en_core_web_lg' # many more words\n",
    "nlp = spacy.load(model, disable=[\"parser\"])\n",
    "sentencizer = nlp.create_pipe(\"sentencizer\")\n",
    "nlp.add_pipe(sentencizer)"
   ],
   "metadata": {
    "collapsed": false,
    "pycharm": {
     "name": "#%%\n",
     "is_executing": false
    }
   }
  },
  {
   "cell_type": "code",
   "execution_count": 5,
   "outputs": [
    {
     "name": "stdout",
     "text": [
      "['tagger', 'ner', 'sentencizer']\n"
     ],
     "output_type": "stream"
    }
   ],
   "source": [
    "print(nlp.pipe_names)"
   ],
   "metadata": {
    "collapsed": false,
    "pycharm": {
     "name": "#%%\n",
     "is_executing": false
    }
   }
  },
  {
   "cell_type": "code",
   "execution_count": 6,
   "outputs": [],
   "source": [
    "def split_sentences(doc, pos_filter=['NOUN', 'VERB']):\n",
    "    # take input document and vectorize in context, and clean\n",
    "    # for topic model return nouns and verbs\n",
    "    # for sentiment return  adverbs    \n",
    "    # return list of lists, corresponding to the filtered entities within each sentences\n",
    "    sent_text = []\n",
    "    all_tokens = []\n",
    "    all_token_vectors = []\n",
    "    for span in doc.sents:\n",
    "        span_doc = span.as_doc(copy_user_data=True)\n",
    "        sent_text.append(span_doc.text)\n",
    "        tokens = [t for i,t in enumerate(span_doc) if t.pos_ in pos_filter]\n",
    "        all_tokens.append(tokens)\n",
    "        token_vectors = [t.vector for i,t in enumerate(span_doc) if t.pos_ in pos_filter]\n",
    "        all_token_vectors.append(token_vectors)\n",
    "    return sent_text, all_tokens, all_token_vectors"
   ],
   "metadata": {
    "collapsed": false,
    "pycharm": {
     "name": "#%%\n",
     "is_executing": false
    }
   }
  },
  {
   "cell_type": "code",
   "execution_count": 7,
   "outputs": [
    {
     "name": "stdout",
     "text": [
      "100\n"
     ],
     "output_type": "stream"
    }
   ],
   "source": [
    "print(len(df.text))"
   ],
   "metadata": {
    "collapsed": false,
    "pycharm": {
     "name": "#%%\n",
     "is_executing": false
    }
   }
  },
  {
   "cell_type": "code",
   "execution_count": 8,
   "outputs": [],
   "source": [
    "sentence_df = pd.DataFrame(columns=['sentences','tokens','token_vectors'])\n",
    "for r, review in enumerate(df.text):\n",
    "    doc = nlp(review)\n",
    "    sentences, tokens, token_vectors = split_sentences(doc) \n",
    "    entry_df = pd.DataFrame()\n",
    "    entry_df['sentences'] = sentences\n",
    "    entry_df['tokens'] = tokens\n",
    "    entry_df['token_vectors'] = token_vectors\n",
    "    sentence_df = pd.concat([sentence_df, entry_df], axis=0)"
   ],
   "metadata": {
    "collapsed": false,
    "pycharm": {
     "name": "#%%\n",
     "is_executing": false
    }
   }
  },
  {
   "cell_type": "code",
   "execution_count": 9,
   "outputs": [
    {
     "data": {
      "text/plain": "(4197, 96)"
     },
     "metadata": {},
     "output_type": "execute_result",
     "execution_count": 9
    }
   ],
   "source": [
    "mat = np.array(list(itertools.chain.from_iterable(sentence_df.token_vectors)))\n",
    "mat.shape\n"
   ],
   "metadata": {
    "collapsed": false,
    "pycharm": {
     "name": "#%%\n",
     "is_executing": false
    }
   }
  },
  {
   "cell_type": "code",
   "execution_count": 10,
   "outputs": [
    {
     "data": {
      "text/plain": "[<matplotlib.lines.Line2D at 0x7f2505cd5810>]"
     },
     "metadata": {},
     "output_type": "execute_result",
     "execution_count": 10
    },
    {
     "data": {
      "text/plain": "<Figure size 432x288 with 1 Axes>",
      "image/png": "[encoded data removed]"
     },
     "metadata": {
      "needs_background": "light"
     },
     "output_type": "display_data"
    }
   ],
   "source": [
    "pca = PCA(n_components=50)\n",
    "pca.fit(mat)\n",
    "plt.plot(pca.explained_variance_ratio_)"
   ],
   "metadata": {
    "collapsed": false,
    "pycharm": {
     "name": "#%%\n",
     "is_executing": false
    }
   }
  },
  {
   "cell_type": "code",
   "execution_count": 128,
   "outputs": [
    {
     "name": "stdout",
     "text": [
      "(12, 96)\n"
     ],
     "output_type": "stream"
    }
   ],
   "source": [
    "mean_vecs = []\n",
    "for s in token_vectors:\n",
    "    vec = np.empty([96])\n",
    "    for s_vec in s: # in each sentence\n",
    "        vec = np.vstack((vec,s_vec))\n",
    "        mvec = np.mean(vec, axis=0)\n",
    "    mean_vecs.append(mvec)\n",
    "\n",
    "mean_vecs = np.array(mean_vecs)\n",
    "print(mean_vecs.shape)"
   ],
   "metadata": {
    "collapsed": false,
    "pycharm": {
     "name": "#%%\n",
     "is_executing": false
    }
   }
  },
  {
   "cell_type": "code",
   "execution_count": 11,
   "outputs": [
    {
     "name": "stdout",
     "text": [
      "(3, 96)\n"
     ],
     "output_type": "stream"
    }
   ],
   "source": [
    "# cluster around seeds\n",
    "\n",
    "seeds = [['food','taste','cooking'],\n",
    "         ['service','attitude','helpful'],\n",
    "         ['clean','decor','atmosphere']]\n",
    "\n",
    "mean_seed_vectors = []\n",
    "for k,seed in enumerate(seeds):\n",
    "    seed_vectors = np.empty((0,96))\n",
    "    for n,s in enumerate(seed):\n",
    "        vec = nlp(s).vector\n",
    "        vec = np.expand_dims(vec, axis=0)\n",
    "        seed_vectors = np.vstack((seed_vectors,vec))\n",
    "    mean_seed_vectors.append(np.mean(seed_vectors, axis=0))\n",
    "    \n",
    "mean_seed_vectors = np.array(mean_seed_vectors)\n",
    "print(mean_seed_vectors.shape)\n"
   ],
   "metadata": {
    "collapsed": false,
    "pycharm": {
     "name": "#%%\n",
     "is_executing": false
    }
   }
  },
  {
   "cell_type": "code",
   "execution_count": 14,
   "outputs": [],
   "source": [
    "#gmm = GaussianMixture(n_components=len(seeds), \n",
    "#                      covariance_type='full',\n",
    "#                      means_init = mean_seed_vectors)\n",
    "\n",
    "bic = []\n",
    "for k in np.arange(2,20):\n",
    "    gmm = GaussianMixture(n_components=k, \n",
    "                          covariance_type='full')\n",
    "    mat_norm = normalize(mat, axis=1)\n",
    "    y_idx = np.arange(0,mat.shape[0])\n",
    "    X_train, X_test, y_train, y_test = train_test_split(mat_norm, \n",
    "                                                        y_idx, \n",
    "                                                        test_size=0.2, \n",
    "                                                        random_state=42)\n",
    "    gmm.fit(X_train)\n",
    "    #probs = gmm.predict_proba(X_test)\n",
    "    bic.append(gmm.bic(X_test))"
   ],
   "metadata": {
    "collapsed": false,
    "pycharm": {
     "name": "#%%\n",
     "is_executing": false
    }
   }
  },
  {
   "cell_type": "code",
   "execution_count": 15,
   "outputs": [
    {
     "data": {
      "text/plain": "[<matplotlib.lines.Line2D at 0x7f250730e810>]"
     },
     "metadata": {},
     "output_type": "execute_result",
     "execution_count": 15
    },
    {
     "data": {
      "text/plain": "<Figure size 432x288 with 1 Axes>",
      "image/png": "[encoded data removed]"
     },
     "metadata": {
      "needs_background": "light"
     },
     "output_type": "display_data"
    }
   ],
   "source": [
    "plt.plot(bic)"
   ],
   "metadata": {
    "collapsed": false,
    "pycharm": {
     "name": "#%%\n",
     "is_executing": false
    }
   }
  },
  {
   "cell_type": "code",
   "execution_count": 143,
   "outputs": [
    {
     "data": {
      "text/plain": "[tell, bar, things, years, ask, flavors, girls, concern, array, could]"
     },
     "metadata": {},
     "output_type": "execute_result",
     "execution_count": 143
    },
    {
     "data": {
      "text/plain": "<Figure size 432x288 with 1 Axes>",
      "image/png": "[encoded data removed]"
     },
     "metadata": {
      "needs_background": "light"
     },
     "output_type": "display_data"
    }
   ],
   "source": [
    "plt.imshow(probs[:10], vmin=0, vmax=1.0)\n",
    "\n",
    "all_test_text = list(itertools.chain.from_iterable(sentence_df.tokens))\n",
    "test_text = [t for i,t in enumerate(all_test_text) if i in list(y_test[:10])]\n",
    "test_text"
   ],
   "metadata": {
    "collapsed": false,
    "pycharm": {
     "name": "#%%\n",
     "is_executing": false
    }
   }
  },
  {
   "cell_type": "code",
   "execution_count": 133,
   "outputs": [
    {
     "name": "stdout",
     "text": [
      "(840, 3)\n",
      "[0.         0.39871421 0.60128579]\n"
     ],
     "output_type": "stream"
    },
    {
     "data": {
      "text/plain": "<function print>"
     },
     "metadata": {},
     "output_type": "execute_result",
     "execution_count": 133
    }
   ],
   "source": [
    "print(mean_probs.shape)\n",
    "print(np.mean(mean_probs, axis=0))\n",
    "print"
   ],
   "metadata": {
    "collapsed": false,
    "pycharm": {
     "name": "#%%\n",
     "is_executing": false
    }
   }
  },
  {
   "cell_type": "code",
   "execution_count": 134,
   "outputs": [
    {
     "data": {
      "text/plain": "(array([1675.,    3.,    0.,    0.,    2.,    2.,    0.,    0.,    3.,\n         835.]),\n array([3.63291872e-240, 1.00000000e-001, 2.00000000e-001, 3.00000000e-001,\n        4.00000000e-001, 5.00000000e-001, 6.00000000e-001, 7.00000000e-001,\n        8.00000000e-001, 9.00000000e-001, 1.00000000e+000]),\n <a list of 10 Patch objects>)"
     },
     "metadata": {},
     "output_type": "execute_result",
     "execution_count": 134
    },
    {
     "data": {
      "text/plain": "<Figure size 432x288 with 1 Axes>",
      "image/png": "[encoded data removed]"
     },
     "metadata": {
      "needs_background": "light"
     },
     "output_type": "display_data"
    }
   ],
   "source": [
    "plt.hist(probs.flatten())"
   ],
   "metadata": {
    "collapsed": false,
    "pycharm": {
     "name": "#%%\n",
     "is_executing": false
    }
   }
  },
  {
   "cell_type": "code",
   "execution_count": 26,
   "outputs": [],
   "source": [
    "# search text for seeds\n",
    "\n",
    "def find_words(col,word):\n",
    "    # input column of text from dataframe\n",
    "    # return row indices with matches to the word\n",
    "    matches = [i for i,text in enumerate(col) if word in text]\n",
    "    return matches\n",
    "\n",
    "\n",
    "seeds = {'Residents':['resident','patient','senior'],\n",
    "        'Communication':['listen','communicate','complaint'],\n",
    "        'Management':['supervisor','boss','rule','management','administration'],\n",
    "        'Scheduling':['schedule','busy'],\n",
    "        'Compensation':['compensation','money','pay','benefit'],\n",
    "        'Colleagues':['colleague','employee','peer','coworker','associate','teammate'],\n",
    "        }\n",
    "\n",
    "match_dict = dict((e,[]) for e in seeds)\n",
    "for key,val in seeds.items():\n",
    "    matches = []\n",
    "    for v in val:\n",
    "        word_idx = find_words(df.text, v)\n",
    "        matches.append(word_idx)\n",
    "    match_dict[key] = matches\n",
    "    "
   ],
   "metadata": {
    "collapsed": false,
    "pycharm": {
     "name": "#%%\n",
     "is_executing": false
    }
   }
  },
  {
   "cell_type": "code",
   "execution_count": 27,
   "outputs": [
    {
     "name": "stdout",
     "text": [
      "1915\n"
     ],
     "output_type": "stream"
    }
   ],
   "source": [
    "total_count = 0\n",
    "topic_freq = []\n",
    "for key,val in match_dict.items():\n",
    "    all_counts = list(itertools.chain.from_iterable(val))\n",
    "    count = len(set(all_counts))\n",
    "    total_count += count\n",
    "    topic_freq.append(count/float(5000.0))\n",
    "print(total_count)"
   ],
   "metadata": {
    "collapsed": false,
    "pycharm": {
     "name": "#%%\n",
     "is_executing": false
    }
   }
  },
  {
   "cell_type": "code",
   "execution_count": 34,
   "outputs": [
    {
     "data": {
      "text/plain": "<Figure size 576x432 with 1 Axes>",
      "image/png": "[encoded data removed]"
     },
     "metadata": {
      "needs_background": "light"
     },
     "output_type": "display_data"
    }
   ],
   "source": [
    "plot_dat = pd.DataFrame(columns=seeds.keys())\n",
    "plot_dat.loc[0] = topic_freq\n",
    "\n",
    "fig,ax = plt.subplots(figsize=(8,6))\n",
    "sns.barplot(data=plot_dat, ax=ax)\n",
    "ax.set_ylabel('proportion of responses')\n",
    "plt.savefig('barplot.png')"
   ],
   "metadata": {
    "collapsed": false,
    "pycharm": {
     "name": "#%%\n",
     "is_executing": false
    }
   }
  },
  {
   "cell_type": "code",
   "execution_count": null,
   "outputs": [],
   "source": [
    "\n"
   ],
   "metadata": {
    "collapsed": false,
    "pycharm": {
     "name": "#%%\n"
    }
   }
  }
 ],
 "metadata": {
  "kernelspec": {
   "name": "pycharm-f056d84",
   "language": "python",
   "display_name": "PyCharm (insight_2020a_project)"
  },
  "language_info": {
   "codemirror_mode": {
    "name": "ipython",
    "version": 2
   },
   "file_extension": ".py",
   "mimetype": "text/x-python",
   "name": "python",
   "nbconvert_exporter": "python",
   "pygments_lexer": "ipython2",
   "version": "2.7.6"
  },
  "pycharm": {
   "stem_cell": {
    "cell_type": "raw",
    "source": [],
    "metadata": {
     "collapsed": false
    }
   }
  }
 },
 "nbformat": 4,
 "nbformat_minor": 0
}