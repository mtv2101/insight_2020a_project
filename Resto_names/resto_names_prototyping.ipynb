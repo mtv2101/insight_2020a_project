{
 "cells": [
  {
   "cell_type": "code",
   "execution_count": 1,
   "metadata": {
    "collapsed": true,
    "pycharm": {
     "is_executing": false
    }
   },
   "outputs": [],
   "source": [
    "import numpy as np\n",
    "import pandas as pd\n",
    "import timeit\n",
    "import json\n",
    "import re\n",
    "import itertools\n",
    "import matplotlib.pyplot as plt\n",
    "#import cupy\n",
    "from sklearn import linear_model\n",
    "\n",
    "import spacy\n",
    "import en_trf_xlnetbasecased_lg\n",
    "from spacy.pipeline import EntityRuler"
   ]
  },
  {
   "cell_type": "code",
   "execution_count": 3,
   "outputs": [
    {
     "data": {
      "text/plain": "              business_id                             name  \\\n0  1SWheh84yJXfytovILXOAQ       Arizona Biltmore Golf Club   \n1  QXAEGFB4oINsVuTFxEYKFQ       Emerald Chinese Restaurant   \n2  gnKjwL_1w79qoiV3IC_xQQ      Musashi Japanese Restaurant   \n3  xvX2CttrVhyG2z1dFg_0xw  Farmers Insurance - Paul Lorenz   \n4  HhyxOkGAM07SRYtlQ4wMFQ              Queen City Plumbing   \n\n                          address         city state postal_code   latitude  \\\n0     2818 E Camino Acequia Drive      Phoenix    AZ       85016  33.522143   \n1            30 Eglinton Avenue W  Mississauga    ON     L5R 3E7  43.605499   \n2       10110 Johnston Rd, Ste 15    Charlotte    NC       28210  35.092564   \n3   15655 W Roosevelt St, Ste 237     Goodyear    AZ       85338  33.455613   \n4  4209 Stuart Andrew Blvd, Ste F    Charlotte    NC       28217  35.190012   \n\n    longitude  stars  review_count  is_open  \\\n0 -112.018481    3.0             5        0   \n1  -79.652289    2.5           128        1   \n2  -80.859132    4.0           170        1   \n3 -112.395596    5.0             3        1   \n4  -80.887223    4.0             4        1   \n\n                                          attributes  \\\n0                           {'GoodForKids': 'False'}   \n1  {'RestaurantsReservations': 'True', 'GoodForMe...   \n2  {'GoodForKids': 'True', 'NoiseLevel': 'u'avera...   \n3                                               None   \n4  {'BusinessAcceptsBitcoin': 'False', 'ByAppoint...   \n\n                                          categories  \\\n0                                  Golf, Active Life   \n1  Specialty Food, Restaurants, Dim Sum, Imported...   \n2                  Sushi Bars, Restaurants, Japanese   \n3                      Insurance, Financial Services   \n4  Plumbing, Shopping, Local Services, Home Servi...   \n\n                                               hours  \n0                                               None  \n1  {'Monday': '9:0-0:0', 'Tuesday': '9:0-0:0', 'W...  \n2  {'Monday': '17:30-21:30', 'Wednesday': '17:30-...  \n3  {'Monday': '8:0-17:0', 'Tuesday': '8:0-17:0', ...  \n4  {'Monday': '7:0-23:0', 'Tuesday': '7:0-23:0', ...  ",
      "text/html": "<div>\n<style scoped>\n    .dataframe tbody tr th:only-of-type {\n        vertical-align: middle;\n    }\n\n    .dataframe tbody tr th {\n        vertical-align: top;\n    }\n\n    .dataframe thead th {\n        text-align: right;\n    }\n</style>\n<table border=\"1\" class=\"dataframe\">\n  <thead>\n    <tr style=\"text-align: right;\">\n      <th></th>\n      <th>business_id</th>\n      <th>name</th>\n      <th>address</th>\n      <th>city</th>\n      <th>state</th>\n      <th>postal_code</th>\n      <th>latitude</th>\n      <th>longitude</th>\n      <th>stars</th>\n      <th>review_count</th>\n      <th>is_open</th>\n      <th>attributes</th>\n      <th>categories</th>\n      <th>hours</th>\n    </tr>\n  </thead>\n  <tbody>\n    <tr>\n      <th>0</th>\n      <td>1SWheh84yJXfytovILXOAQ</td>\n      <td>Arizona Biltmore Golf Club</td>\n      <td>2818 E Camino Acequia Drive</td>\n      <td>Phoenix</td>\n      <td>AZ</td>\n      <td>85016</td>\n      <td>33.522143</td>\n      <td>-112.018481</td>\n      <td>3.0</td>\n      <td>5</td>\n      <td>0</td>\n      <td>{'GoodForKids': 'False'}</td>\n      <td>Golf, Active Life</td>\n      <td>None</td>\n    </tr>\n    <tr>\n      <th>1</th>\n      <td>QXAEGFB4oINsVuTFxEYKFQ</td>\n      <td>Emerald Chinese Restaurant</td>\n      <td>30 Eglinton Avenue W</td>\n      <td>Mississauga</td>\n      <td>ON</td>\n      <td>L5R 3E7</td>\n      <td>43.605499</td>\n      <td>-79.652289</td>\n      <td>2.5</td>\n      <td>128</td>\n      <td>1</td>\n      <td>{'RestaurantsReservations': 'True', 'GoodForMe...</td>\n      <td>Specialty Food, Restaurants, Dim Sum, Imported...</td>\n      <td>{'Monday': '9:0-0:0', 'Tuesday': '9:0-0:0', 'W...</td>\n    </tr>\n    <tr>\n      <th>2</th>\n      <td>gnKjwL_1w79qoiV3IC_xQQ</td>\n      <td>Musashi Japanese Restaurant</td>\n      <td>10110 Johnston Rd, Ste 15</td>\n      <td>Charlotte</td>\n      <td>NC</td>\n      <td>28210</td>\n      <td>35.092564</td>\n      <td>-80.859132</td>\n      <td>4.0</td>\n      <td>170</td>\n      <td>1</td>\n      <td>{'GoodForKids': 'True', 'NoiseLevel': 'u'avera...</td>\n      <td>Sushi Bars, Restaurants, Japanese</td>\n      <td>{'Monday': '17:30-21:30', 'Wednesday': '17:30-...</td>\n    </tr>\n    <tr>\n      <th>3</th>\n      <td>xvX2CttrVhyG2z1dFg_0xw</td>\n      <td>Farmers Insurance - Paul Lorenz</td>\n      <td>15655 W Roosevelt St, Ste 237</td>\n      <td>Goodyear</td>\n      <td>AZ</td>\n      <td>85338</td>\n      <td>33.455613</td>\n      <td>-112.395596</td>\n      <td>5.0</td>\n      <td>3</td>\n      <td>1</td>\n      <td>None</td>\n      <td>Insurance, Financial Services</td>\n      <td>{'Monday': '8:0-17:0', 'Tuesday': '8:0-17:0', ...</td>\n    </tr>\n    <tr>\n      <th>4</th>\n      <td>HhyxOkGAM07SRYtlQ4wMFQ</td>\n      <td>Queen City Plumbing</td>\n      <td>4209 Stuart Andrew Blvd, Ste F</td>\n      <td>Charlotte</td>\n      <td>NC</td>\n      <td>28217</td>\n      <td>35.190012</td>\n      <td>-80.887223</td>\n      <td>4.0</td>\n      <td>4</td>\n      <td>1</td>\n      <td>{'BusinessAcceptsBitcoin': 'False', 'ByAppoint...</td>\n      <td>Plumbing, Shopping, Local Services, Home Servi...</td>\n      <td>{'Monday': '7:0-23:0', 'Tuesday': '7:0-23:0', ...</td>\n    </tr>\n  </tbody>\n</table>\n</div>"
     },
     "metadata": {},
     "output_type": "execute_result",
     "execution_count": 3
    }
   ],
   "source": [
    "yelp_business_datapath = '/home/matt_valley/PycharmProjects/insight_2020a_project/Resto_names/yelp_dataset/business.json'\n",
    "\n",
    "num_entries = 100000\n",
    "users = []\n",
    "with open(yelp_business_datapath) as fl:\n",
    "    for i, line in enumerate(fl):\n",
    "        users.append(json.loads(line))\n",
    "        if i+1 >= num_entries:\n",
    "            break\n",
    "df = pd.DataFrame(users)\n",
    "df.head()"
   ],
   "metadata": {
    "collapsed": false,
    "pycharm": {
     "name": "#%%\n",
     "is_executing": false
    }
   }
  },
  {
   "cell_type": "code",
   "execution_count": 4,
   "outputs": [
    {
     "name": "stdout",
     "text": [
      "Index(['business_id', 'name', 'address', 'city', 'state', 'postal_code',\n",
      "       'latitude', 'longitude', 'stars', 'review_count', 'is_open',\n",
      "       'attributes', 'categories', 'hours'],\n",
      "      dtype='object')\n"
     ],
     "output_type": "stream"
    }
   ],
   "source": [
    "print(df.keys())"
   ],
   "metadata": {
    "collapsed": false,
    "pycharm": {
     "name": "#%%\n",
     "is_executing": false
    }
   }
  },
  {
   "cell_type": "code",
   "execution_count": 5,
   "outputs": [
    {
     "name": "stdout",
     "text": [
      "30776\n",
      "100000\n"
     ],
     "output_type": "stream"
    }
   ],
   "source": [
    "# get restaurants and their reviews\n",
    "\n",
    "re_obj = re.compile('Restaurant*')\n",
    "def filter_categories(row):\n",
    "    if row:\n",
    "        if re_obj.search(row):\n",
    "            return True\n",
    "        else:\n",
    "            return False\n",
    "    else:\n",
    "        return False\n",
    "    \n",
    "resto_df = df[df.categories.apply(lambda x: filter_categories(x))]\n",
    "print(len(resto_df))\n",
    "print(len(df))"
   ],
   "metadata": {
    "collapsed": false,
    "pycharm": {
     "name": "#%%\n",
     "is_executing": false
    }
   }
  },
  {
   "cell_type": "code",
   "execution_count": 6,
   "outputs": [],
   "source": [
    "# load spacy model\n",
    "\n",
    "#model = 'en_core_web_sm' # for testing on laptop\n",
    "model = 'en_vectors_web_lg' # many more words\n",
    "nlp = spacy.load(model)"
   ],
   "metadata": {
    "collapsed": false,
    "pycharm": {
     "name": "#%%\n",
     "is_executing": false
    }
   }
  },
  {
   "cell_type": "code",
   "execution_count": 7,
   "outputs": [
    {
     "name": "stdout",
     "text": [
      "Emerald Chinese Restaurant\n",
      "(300,)\n"
     ],
     "output_type": "stream"
    }
   ],
   "source": [
    "#Get embeddings for all resto names\n",
    "\n",
    "def embed_name(name):\n",
    "    spacy_obj = nlp(name)\n",
    "    return spacy_obj.vector\n",
    "\n",
    "test_name = resto_df['name'].iloc[0]\n",
    "print(test_name)\n",
    "\n",
    "vec = embed_name(test_name)\n",
    "print(vec.shape)"
   ],
   "metadata": {
    "collapsed": false,
    "pycharm": {
     "name": "#%%\n",
     "is_executing": false
    }
   }
  },
  {
   "cell_type": "code",
   "execution_count": 8,
   "outputs": [
    {
     "name": "stderr",
     "text": [
      "/home/matt_valley/anaconda3/envs/spacy/lib/python3.7/site-packages/ipykernel_launcher.py:1: SettingWithCopyWarning: \n",
      "A value is trying to be set on a copy of a slice from a DataFrame.\n",
      "Try using .loc[row_indexer,col_indexer] = value instead\n",
      "\n",
      "See the caveats in the documentation: http://pandas.pydata.org/pandas-docs/stable/user_guide/indexing.html#returning-a-view-versus-a-copy\n",
      "  \"\"\"Entry point for launching an IPython kernel.\n"
     ],
     "output_type": "stream"
    }
   ],
   "source": [
    "resto_df['name_vector'] = resto_df.name.apply(lambda x: embed_name(x))"
   ],
   "metadata": {
    "collapsed": false,
    "pycharm": {
     "name": "#%%\n",
     "is_executing": false
    }
   }
  },
  {
   "cell_type": "code",
   "execution_count": 9,
   "outputs": [
    {
     "data": {
      "text/plain": "               business_id                         name  \\\n1   QXAEGFB4oINsVuTFxEYKFQ   Emerald Chinese Restaurant   \n2   gnKjwL_1w79qoiV3IC_xQQ  Musashi Japanese Restaurant   \n11  1Dfx3zM-rW4n-31KeC8sJg                    Taco Bell   \n13  fweCYi8FmbJXHCqLnwuk8w                Marco's Pizza   \n17  PZ-LZzSlhSe9utkQYU8pFg   Carluccio's Tivoli Gardens   \n\n                         address                city state postal_code  \\\n1           30 Eglinton Avenue W         Mississauga    ON     L5R 3E7   \n2      10110 Johnston Rd, Ste 15           Charlotte    NC       28210   \n11       2450 E Indian School Rd             Phoenix    AZ       85016   \n13               5981 Andrews Rd  Mentor-on-the-Lake    OH       44060   \n17  1775 E Tropicana Ave, Ste 29           Las Vegas    NV       89119   \n\n     latitude   longitude  stars  review_count  is_open  \\\n1   43.605499  -79.652289    2.5           128        1   \n2   35.092564  -80.859132    4.0           170        1   \n11  33.495194 -112.028588    3.0            18        1   \n13  41.708520  -81.359556    4.0            16        1   \n17  36.100016 -115.128529    4.0            40        0   \n\n                                           attributes  \\\n1   {'RestaurantsReservations': 'True', 'GoodForMe...   \n2   {'GoodForKids': 'True', 'NoiseLevel': 'u'avera...   \n11  {'RestaurantsTakeOut': 'True', 'BusinessParkin...   \n13  {'RestaurantsPriceRange2': '2', 'BusinessAccep...   \n17  {'OutdoorSeating': 'False', 'BusinessAcceptsCr...   \n\n                                           categories  \\\n1   Specialty Food, Restaurants, Dim Sum, Imported...   \n2                   Sushi Bars, Restaurants, Japanese   \n11  Restaurants, Breakfast & Brunch, Mexican, Taco...   \n13         Italian, Restaurants, Pizza, Chicken Wings   \n17                               Restaurants, Italian   \n\n                                                hours  \\\n1   {'Monday': '9:0-0:0', 'Tuesday': '9:0-0:0', 'W...   \n2   {'Monday': '17:30-21:30', 'Wednesday': '17:30-...   \n11  {'Monday': '7:0-0:0', 'Tuesday': '7:0-0:0', 'W...   \n13  {'Monday': '10:0-0:0', 'Tuesday': '10:0-0:0', ...   \n17                                               None   \n\n                                          name_vector  \n1   [0.015270342, 0.091443665, 0.17911, -0.353965,...  \n2   [0.19946666, 0.015730664, 0.11467668, -0.44225...  \n11  [-0.22609499, 0.03694001, 0.25902498, 0.206840...  \n13  [0.024047563, 0.15770334, 0.16039033, 0.045059...  \n17  [0.39877, 0.26875252, -0.12409, -0.3414675, 0....  ",
      "text/html": "<div>\n<style scoped>\n    .dataframe tbody tr th:only-of-type {\n        vertical-align: middle;\n    }\n\n    .dataframe tbody tr th {\n        vertical-align: top;\n    }\n\n    .dataframe thead th {\n        text-align: right;\n    }\n</style>\n<table border=\"1\" class=\"dataframe\">\n  <thead>\n    <tr style=\"text-align: right;\">\n      <th></th>\n      <th>business_id</th>\n      <th>name</th>\n      <th>address</th>\n      <th>city</th>\n      <th>state</th>\n      <th>postal_code</th>\n      <th>latitude</th>\n      <th>longitude</th>\n      <th>stars</th>\n      <th>review_count</th>\n      <th>is_open</th>\n      <th>attributes</th>\n      <th>categories</th>\n      <th>hours</th>\n      <th>name_vector</th>\n    </tr>\n  </thead>\n  <tbody>\n    <tr>\n      <th>1</th>\n      <td>QXAEGFB4oINsVuTFxEYKFQ</td>\n      <td>Emerald Chinese Restaurant</td>\n      <td>30 Eglinton Avenue W</td>\n      <td>Mississauga</td>\n      <td>ON</td>\n      <td>L5R 3E7</td>\n      <td>43.605499</td>\n      <td>-79.652289</td>\n      <td>2.5</td>\n      <td>128</td>\n      <td>1</td>\n      <td>{'RestaurantsReservations': 'True', 'GoodForMe...</td>\n      <td>Specialty Food, Restaurants, Dim Sum, Imported...</td>\n      <td>{'Monday': '9:0-0:0', 'Tuesday': '9:0-0:0', 'W...</td>\n      <td>[0.015270342, 0.091443665, 0.17911, -0.353965,...</td>\n    </tr>\n    <tr>\n      <th>2</th>\n      <td>gnKjwL_1w79qoiV3IC_xQQ</td>\n      <td>Musashi Japanese Restaurant</td>\n      <td>10110 Johnston Rd, Ste 15</td>\n      <td>Charlotte</td>\n      <td>NC</td>\n      <td>28210</td>\n      <td>35.092564</td>\n      <td>-80.859132</td>\n      <td>4.0</td>\n      <td>170</td>\n      <td>1</td>\n      <td>{'GoodForKids': 'True', 'NoiseLevel': 'u'avera...</td>\n      <td>Sushi Bars, Restaurants, Japanese</td>\n      <td>{'Monday': '17:30-21:30', 'Wednesday': '17:30-...</td>\n      <td>[0.19946666, 0.015730664, 0.11467668, -0.44225...</td>\n    </tr>\n    <tr>\n      <th>11</th>\n      <td>1Dfx3zM-rW4n-31KeC8sJg</td>\n      <td>Taco Bell</td>\n      <td>2450 E Indian School Rd</td>\n      <td>Phoenix</td>\n      <td>AZ</td>\n      <td>85016</td>\n      <td>33.495194</td>\n      <td>-112.028588</td>\n      <td>3.0</td>\n      <td>18</td>\n      <td>1</td>\n      <td>{'RestaurantsTakeOut': 'True', 'BusinessParkin...</td>\n      <td>Restaurants, Breakfast &amp; Brunch, Mexican, Taco...</td>\n      <td>{'Monday': '7:0-0:0', 'Tuesday': '7:0-0:0', 'W...</td>\n      <td>[-0.22609499, 0.03694001, 0.25902498, 0.206840...</td>\n    </tr>\n    <tr>\n      <th>13</th>\n      <td>fweCYi8FmbJXHCqLnwuk8w</td>\n      <td>Marco's Pizza</td>\n      <td>5981 Andrews Rd</td>\n      <td>Mentor-on-the-Lake</td>\n      <td>OH</td>\n      <td>44060</td>\n      <td>41.708520</td>\n      <td>-81.359556</td>\n      <td>4.0</td>\n      <td>16</td>\n      <td>1</td>\n      <td>{'RestaurantsPriceRange2': '2', 'BusinessAccep...</td>\n      <td>Italian, Restaurants, Pizza, Chicken Wings</td>\n      <td>{'Monday': '10:0-0:0', 'Tuesday': '10:0-0:0', ...</td>\n      <td>[0.024047563, 0.15770334, 0.16039033, 0.045059...</td>\n    </tr>\n    <tr>\n      <th>17</th>\n      <td>PZ-LZzSlhSe9utkQYU8pFg</td>\n      <td>Carluccio's Tivoli Gardens</td>\n      <td>1775 E Tropicana Ave, Ste 29</td>\n      <td>Las Vegas</td>\n      <td>NV</td>\n      <td>89119</td>\n      <td>36.100016</td>\n      <td>-115.128529</td>\n      <td>4.0</td>\n      <td>40</td>\n      <td>0</td>\n      <td>{'OutdoorSeating': 'False', 'BusinessAcceptsCr...</td>\n      <td>Restaurants, Italian</td>\n      <td>None</td>\n      <td>[0.39877, 0.26875252, -0.12409, -0.3414675, 0....</td>\n    </tr>\n  </tbody>\n</table>\n</div>"
     },
     "metadata": {},
     "output_type": "execute_result",
     "execution_count": 9
    }
   ],
   "source": [
    "resto_df.head(5)"
   ],
   "metadata": {
    "collapsed": false,
    "pycharm": {
     "name": "#%%\n",
     "is_executing": false
    }
   }
  },
  {
   "cell_type": "code",
   "execution_count": 10,
   "outputs": [
    {
     "name": "stdout",
     "text": [
      "(30776,)\n",
      "(30776, 300)\n"
     ],
     "output_type": "stream"
    }
   ],
   "source": [
    "lin_model = linear_model.LinearRegression(normalize=True)\n",
    "\n",
    "y = resto_df.stars.values\n",
    "#y = np.expand_dims(y, axis=1)\n",
    "print(y.shape)\n",
    "\n",
    "X = np.empty([len(resto_df), vec.shape[0]])\n",
    "for r in range(len(resto_df)):\n",
    "    X[r,:] = resto_df['name_vector'].iloc[r]\n",
    "print(X.shape)"
   ],
   "metadata": {
    "collapsed": false,
    "pycharm": {
     "name": "#%%sklearn\n",
     "is_executing": false
    }
   }
  },
  {
   "cell_type": "code",
   "execution_count": 11,
   "outputs": [
    {
     "name": "stdout",
     "text": [
      "[-1.03017210e-01 -9.78880845e-02  3.08338408e-02  7.39238901e-02\n",
      "  1.69803487e-02 -1.74552968e-02 -5.88858612e-02  6.06968570e-02\n",
      " -7.33528890e-03 -6.53198747e-02 -8.15935691e-02  7.78375812e-02\n",
      "  1.49188579e-03 -1.93998041e-02  9.68267789e-03 -2.17889983e-02\n",
      " -6.59998300e-02 -1.85298685e-03 -5.02905001e-02  4.51310361e-02\n",
      " -3.89208300e-02 -1.10566853e-01 -5.83299883e-02 -6.80658512e-03\n",
      "  6.06558363e-02  1.27308365e-01  1.56253261e-01  2.71355378e-02\n",
      " -1.47905311e-01 -5.56006442e-02  3.31255158e-02 -5.50236923e-02\n",
      " -6.21124492e-02  2.56634133e-02  2.54921563e-02  5.11189129e-02\n",
      "  9.62924430e-02 -7.76077726e-03  2.64191513e-03  2.62338028e-02\n",
      "  3.39456075e-02 -2.93988670e-02  2.19748553e-01  1.33804377e-01\n",
      " -2.82846815e-03  1.01785673e-01  5.13908340e-02 -1.71665973e-01\n",
      "  3.04764935e-02 -1.18363680e-01  4.14495708e-03  3.24971804e-02\n",
      " -1.05968607e-01  8.02602890e-03 -1.26553860e-02 -5.91050746e-02\n",
      "  6.21957660e-02 -3.62500302e-02 -7.32126615e-02  7.48318267e-02\n",
      "  3.98282932e-02 -4.79204370e-02 -9.58050109e-02  7.98393401e-02\n",
      "  2.63298526e-02 -5.70949127e-03  1.41053654e-01 -8.44472163e-02\n",
      "  2.96419915e-02 -1.63665031e-02 -3.42466327e-02 -2.05963137e-02\n",
      " -3.35698112e-02  3.53857002e-02 -1.34078823e-01 -9.40667203e-02\n",
      "  1.25227754e-02 -1.21329879e-01  7.18360095e-02 -1.54194368e-01\n",
      "  9.09149968e-03  1.08953515e-01  1.31016785e-03  1.43753002e-01\n",
      "  3.94686807e-02 -5.72678490e-02 -4.44445761e-02 -1.05625955e-01\n",
      "  4.14293040e-02  2.59585413e-02  1.33724823e-01 -5.45787339e-02\n",
      " -6.86834752e-02  5.88636358e-02  3.83542752e-02 -2.38057662e-02\n",
      "  1.84588101e-02 -1.00749440e-01 -4.44483931e-02 -7.88510073e-02\n",
      " -8.25677592e-02  3.28948270e-02 -6.52524308e-02  3.21555367e-02\n",
      "  3.25778068e-02 -9.66414549e-02 -3.24983692e-02 -1.22151158e-01\n",
      " -5.99624116e-02 -5.82809874e-02 -8.73380630e-02  1.11504973e-01\n",
      "  2.47873149e-02  2.33422283e-01 -1.15696186e-01 -2.07686480e-02\n",
      " -9.83387838e-02 -5.86917634e-02  4.97059286e-02 -6.34534870e-02\n",
      "  3.92940208e-02 -1.51868583e-01 -5.01281571e-02  7.31207013e-03\n",
      "  7.77687245e-02 -4.85822751e-03 -7.57402461e-02  1.13930629e-01\n",
      "  7.58334695e-02  1.79682556e-02  1.93408583e-02 -4.89288719e-02\n",
      " -1.38056201e-01  1.13093538e-01 -2.76356391e-02  8.73384967e-02\n",
      "  9.78767930e-02  3.24153162e-02  4.38081877e-02 -4.80719484e-02\n",
      " -4.09917461e-02 -5.78427572e-02  4.53692451e-02 -4.11981699e-02\n",
      "  1.52313821e-02  1.82168812e-02 -7.15047149e-02 -7.87684179e-02\n",
      " -1.24071936e-01 -1.86380991e-01  5.62116417e-02 -1.27781282e-02\n",
      "  6.12139088e-03 -1.22352723e-01 -8.76554432e-02  1.76132790e-01\n",
      " -5.14637909e-02 -5.32800944e-02  6.06396906e-02  1.37490546e-01\n",
      " -5.71728743e-02  5.58466636e-02  3.50507201e-02 -6.85472490e-02\n",
      " -1.05638973e-02 -3.77888595e-02 -1.07897853e-01 -8.82506887e-02\n",
      "  3.90930184e-02  1.34735854e-01 -4.18936650e-02 -1.11878431e-01\n",
      " -4.45940270e-02 -6.78242765e-02  2.74070372e-02 -6.42682577e-02\n",
      " -1.49211551e-01 -3.39818715e-02 -3.16562735e-02  9.67955198e-02\n",
      " -1.03642454e-01 -1.46379721e-01 -1.11250497e-01  5.83102617e-02\n",
      "  4.46214793e-02 -3.53916405e-02  1.15837212e-01 -7.56779323e-03\n",
      " -6.65050482e-02  2.81488001e-02  6.48516565e-02 -4.27877799e-02\n",
      " -4.21526580e-02 -4.84875198e-02  1.03064220e-01  1.71753596e-01\n",
      "  2.91953152e-02 -2.75587081e-02 -3.34450761e-02  1.18097058e-01\n",
      "  1.06974354e-01 -7.30057288e-02 -4.04061772e-02  1.02189753e-02\n",
      "  2.79257776e-01  8.82330385e-02 -3.03480699e-02  1.17364581e-01\n",
      "  1.26898568e-01  1.45867078e-01 -6.98450073e-02 -1.15228062e-01\n",
      " -1.46915350e-01  8.96737711e-03  5.55318620e-02 -2.94219858e-02\n",
      " -2.75543319e-02  4.37169395e-02  1.38592271e-02 -1.26571360e-01\n",
      "  1.51306622e-01  8.37448917e-02 -4.59732418e-02 -1.33173550e-01\n",
      " -1.83146213e-03  9.56628043e-02  1.68729814e-02 -2.14990950e-03\n",
      "  3.29492322e-02 -3.21472144e-02  4.49399396e-02 -3.99429150e-02\n",
      " -9.22233923e-02 -6.77431495e-02  1.94161672e-02 -3.97723572e-02\n",
      "  1.00133854e-02  4.27951681e-02  1.63296669e-01 -8.49194417e-02\n",
      "  4.18022849e-02 -1.05460629e-01  3.55241099e-02 -4.26611694e-02\n",
      " -6.06818460e-02  1.93126613e-01  5.96317110e-02 -5.12136495e-02\n",
      "  1.29975033e-01  3.42272976e-02  1.37230368e-01 -1.33326793e-02\n",
      " -4.91000974e-02 -8.21828360e-02  6.96578889e-02  2.17772053e-02\n",
      "  8.42159261e-03 -1.92428790e-01  3.38135408e-02 -8.09670157e-02\n",
      "  4.48131159e-02 -1.75367562e-02  6.52884826e-02  1.21664081e-01\n",
      "  3.11397292e-02 -6.09120140e-02  1.38306117e-01  8.27417668e-03\n",
      " -1.15102714e-01 -1.25285913e-01 -5.80430876e-02 -7.45543810e-02\n",
      "  9.95606517e-02 -5.33461555e-02 -7.29077800e-02  1.35617147e-02\n",
      " -2.03648882e-01 -3.33225057e-03 -1.71825141e-02  1.31561881e-02\n",
      " -2.70850977e-02  5.56784259e-02  8.41138516e-02 -8.75383152e-02\n",
      "  7.47591859e-02 -1.04608156e-01 -4.24150930e-02 -7.33593146e-03\n",
      "  3.40852254e-02 -2.48349149e-02  3.67557526e-02 -1.13005991e-01\n",
      "  2.83093561e-02  1.16699912e-01 -1.21428395e-01 -6.45857260e-02\n",
      "  1.76379223e-01  3.46455378e-02 -1.52815645e-04 -3.88603497e-02]\n",
      "0.18843867931595837\n"
     ],
     "output_type": "stream"
    }
   ],
   "source": [
    "lin_model.fit(X,y)\n",
    "print(lin_model.coef_)\n",
    "print(lin_model.score(X,y))"
   ],
   "metadata": {
    "collapsed": false,
    "pycharm": {
     "name": "#%%\n",
     "is_executing": false
    }
   }
  },
  {
   "cell_type": "code",
   "execution_count": 42,
   "outputs": [
    {
     "data": {
      "text/plain": "                review_id                 user_id             business_id  \\\n0  Q1sbwvVQXV2734tPgoKj4Q  hG7b0MtEbXx5QzbzE6C_VA  ujmEBvifdJM6h6RLv4wQIg   \n1  GJXCdrto3ASJOqKeVWPi6Q  yXQM5uF2jS6es16SJzNHfg  NZnhc2sEQy3RmzKTZnqtwQ   \n2  2TzJjDVDEuAW6MR5Vuc1ug  n6-Gk65cPZL6Uz8qRm3NYw  WTqjgwHlXbSFevF32_DJVw   \n3  yi0R0Ugj_xUx_Nek0-_Qig  dacAIZ6fTM6mqwW5uxkskg  ikCg8xy5JIg_NGPx-MSIDA   \n4  11a8sVPMUFtaC7_ABRkmtw  ssoyf2_x0EQMed6fgHeMyQ  b1b1eb3uo-w561D0ZfCEiQ   \n\n   stars  useful  funny  cool  \\\n0    1.0       6      1     0   \n1    5.0       0      0     0   \n2    5.0       3      0     0   \n3    5.0       0      0     0   \n4    1.0       7      0     0   \n\n                                                text                 date  \n0  Total bill for this horrible service? Over $8G...  2013-05-07 04:34:36  \n1  I *adore* Travis at the Hard Rock's new Kelly ...  2017-01-14 21:30:33  \n2  I have to say that this office really has it t...  2016-11-09 20:09:03  \n3  Went in for a lunch. Steak sandwich was delici...  2018-01-09 20:56:38  \n4  Today was my second out of three sessions I ha...  2018-01-30 23:07:38  ",
      "text/html": "<div>\n<style scoped>\n    .dataframe tbody tr th:only-of-type {\n        vertical-align: middle;\n    }\n\n    .dataframe tbody tr th {\n        vertical-align: top;\n    }\n\n    .dataframe thead th {\n        text-align: right;\n    }\n</style>\n<table border=\"1\" class=\"dataframe\">\n  <thead>\n    <tr style=\"text-align: right;\">\n      <th></th>\n      <th>review_id</th>\n      <th>user_id</th>\n      <th>business_id</th>\n      <th>stars</th>\n      <th>useful</th>\n      <th>funny</th>\n      <th>cool</th>\n      <th>text</th>\n      <th>date</th>\n    </tr>\n  </thead>\n  <tbody>\n    <tr>\n      <th>0</th>\n      <td>Q1sbwvVQXV2734tPgoKj4Q</td>\n      <td>hG7b0MtEbXx5QzbzE6C_VA</td>\n      <td>ujmEBvifdJM6h6RLv4wQIg</td>\n      <td>1.0</td>\n      <td>6</td>\n      <td>1</td>\n      <td>0</td>\n      <td>Total bill for this horrible service? Over $8G...</td>\n      <td>2013-05-07 04:34:36</td>\n    </tr>\n    <tr>\n      <th>1</th>\n      <td>GJXCdrto3ASJOqKeVWPi6Q</td>\n      <td>yXQM5uF2jS6es16SJzNHfg</td>\n      <td>NZnhc2sEQy3RmzKTZnqtwQ</td>\n      <td>5.0</td>\n      <td>0</td>\n      <td>0</td>\n      <td>0</td>\n      <td>I *adore* Travis at the Hard Rock's new Kelly ...</td>\n      <td>2017-01-14 21:30:33</td>\n    </tr>\n    <tr>\n      <th>2</th>\n      <td>2TzJjDVDEuAW6MR5Vuc1ug</td>\n      <td>n6-Gk65cPZL6Uz8qRm3NYw</td>\n      <td>WTqjgwHlXbSFevF32_DJVw</td>\n      <td>5.0</td>\n      <td>3</td>\n      <td>0</td>\n      <td>0</td>\n      <td>I have to say that this office really has it t...</td>\n      <td>2016-11-09 20:09:03</td>\n    </tr>\n    <tr>\n      <th>3</th>\n      <td>yi0R0Ugj_xUx_Nek0-_Qig</td>\n      <td>dacAIZ6fTM6mqwW5uxkskg</td>\n      <td>ikCg8xy5JIg_NGPx-MSIDA</td>\n      <td>5.0</td>\n      <td>0</td>\n      <td>0</td>\n      <td>0</td>\n      <td>Went in for a lunch. Steak sandwich was delici...</td>\n      <td>2018-01-09 20:56:38</td>\n    </tr>\n    <tr>\n      <th>4</th>\n      <td>11a8sVPMUFtaC7_ABRkmtw</td>\n      <td>ssoyf2_x0EQMed6fgHeMyQ</td>\n      <td>b1b1eb3uo-w561D0ZfCEiQ</td>\n      <td>1.0</td>\n      <td>7</td>\n      <td>0</td>\n      <td>0</td>\n      <td>Today was my second out of three sessions I ha...</td>\n      <td>2018-01-30 23:07:38</td>\n    </tr>\n  </tbody>\n</table>\n</div>"
     },
     "metadata": {},
     "output_type": "execute_result",
     "execution_count": 42
    }
   ],
   "source": [
    "# NOW PARSE REVIEWS USING SENTIMENT ANALYSIS\n",
    "\n",
    "yelp_review_datapath = '/home/matt_valley/PycharmProjects/insight_2020a_project/Resto_names/yelp_dataset/review.json'\n",
    "\n",
    "reviews = []\n",
    "with open(yelp_review_datapath) as fl:\n",
    "    for i, line in enumerate(fl):\n",
    "        reviews.append(json.loads(line))\n",
    "        if i+1 >= num_entries:\n",
    "            break\n",
    "df_rev = pd.DataFrame(reviews)\n",
    "df_rev.head()\n"
   ],
   "metadata": {
    "collapsed": false,
    "pycharm": {
     "name": "#%%\n",
     "is_executing": false
    }
   }
  },
  {
   "cell_type": "code",
   "execution_count": null,
   "outputs": [],
   "source": [
    "\n"
   ],
   "metadata": {
    "collapsed": false,
    "pycharm": {
     "name": "#%%\n"
    }
   }
  }
 ],
 "metadata": {
  "kernelspec": {
   "name": "pycharm-f056d84",
   "language": "python",
   "display_name": "PyCharm (insight_2020a_project)"
  },
  "language_info": {
   "codemirror_mode": {
    "name": "ipython",
    "version": 2
   },
   "file_extension": ".py",
   "mimetype": "text/x-python",
   "name": "python",
   "nbconvert_exporter": "python",
   "pygments_lexer": "ipython2",
   "version": "2.7.6"
  },
  "pycharm": {
   "stem_cell": {
    "cell_type": "raw",
    "source": [],
    "metadata": {
     "collapsed": false
    }
   }
  }
 },
 "nbformat": 4,
 "nbformat_minor": 0
}