{
 "cells": [
  {
   "cell_type": "code",
   "execution_count": 3,
   "metadata": {
    "collapsed": true,
    "pycharm": {
     "is_executing": false
    }
   },
   "outputs": [],
   "source": [
    "import PyPDF2\n",
    "from pdfminer.pdfinterp import PDFResourceManager, PDFPageInterpreter\n",
    "from pdfminer.converter import TextConverter\n",
    "from pdfminer.layout import LAParams\n",
    "from pdfminer.pdfpage import PDFPage\n",
    "from io import StringIO\n",
    "import time"
   ]
  },
  {
   "cell_type": "code",
   "execution_count": 4,
   "outputs": [],
   "source": [
    "pdf_filepath = \"/home/matt_valley/Dropbox/Insight/Papers/Yang et al 2019.pdf\""
   ],
   "metadata": {
    "collapsed": false,
    "pycharm": {
     "name": "#%%\n",
     "is_executing": false
    }
   }
  },
  {
   "cell_type": "code",
   "execution_count": 5,
   "outputs": [
    {
     "name": "stdout",
     "text": [
      "18\n",
      "XLNet:GeneralizedAutoregressivePretraining\n",
      "forLanguageUnderstanding\n",
      "ZhilinYang\n",
      "\n",
      "1\n",
      ",ZihangDai\n",
      "\n",
      "12\n",
      ",YimingYang\n",
      "1\n",
      ",JaimeCarbonell\n",
      "1\n",
      ",\n",
      "RuslanSalakhutdinov\n",
      "1\n",
      ",QuocV.Le\n",
      "2\n",
      "1\n",
      "CarnegieMellonUniversity,\n",
      "2\n",
      "GoogleAIBrainTeam\n",
      "{zhiliny,dzihang,yiming,jgc,rsalakhu}@cs.cmu.edu,qvl@google.com\n",
      "Abstract\n",
      "Withthecapabilityofmodelingbidirectionalcontexts,denoisingautoencoding\n",
      "basedpretraininglikeBERTachievesbetterperformancethanpretrainingap-\n",
      "proachesbasedonautoregressivelanguagemodeling.However,relyingoncorrupt-\n",
      "ingtheinputwithmasks,BERTneglectsdependencybetweenthemaskedpositions\n",
      "andsuffersfromadiscrepancy.Inlightoftheseprosandcons,we\n",
      "proposeXLNet,ageneralizedautoregressivepretrainingmethodthat(1)enables\n",
      "learningbidirectionalcontextsbymaximizingtheexpectedlikelihoodoverall\n",
      "permutationsofthefactorizationorderand(2)overcomesthelimitationsofBERT\n",
      "thankstoitsautoregressiveformulation.Furthermore,XLNetintegratesideas\n",
      "fromTransformer-XL,thestate-of-the-artautoregressivemodel,intopretraining.\n",
      "Empirically,undercomparableexperimentsettings,XLNetoutperformsBERTon\n",
      "20tasks,oftenbyalargemargin,includingquestionanswering,naturallanguage\n",
      "inference,sentimentanalysis,anddocumentranking.\n",
      "1\n",
      ".\n",
      "1Introduction\n",
      "Unsupervisedrepresentationlearninghasbeenhighlysuccessfulinthedomainofnaturallanguage\n",
      "processing[\n",
      "7\n",
      ",\n",
      "22\n",
      ",\n",
      "27\n",
      ",\n",
      "28\n",
      ",\n",
      "10\n",
      "].Typically,thesemethodspretrainneuralnetworksonlarge-scale\n",
      "unlabeledtextcorpora,andthenthemodelsorrepresentationsondownstreamtasks.Under\n",
      "thissharedhigh-levelidea,differentunsupervisedpretrainingobjectiveshavebeenexploredin\n",
      "literature.Amongthem,autoregressive(AR)languagemodelingandautoencoding(AE)havebeen\n",
      "thetwomostsuccessfulpretrainingobjectives.\n",
      "ARlanguagemodelingseekstoestimatetheprobabilitydistributionofatextcorpuswithanau-\n",
      "toregressivemodel[\n",
      "7\n",
      ",\n",
      "27\n",
      ",\n",
      "28\n",
      "].,givenatextsequence\n",
      "x\n",
      "=(\n",
      "x\n",
      "1\n",
      ";\n",
      "\n",
      ";x\n",
      "T\n",
      ")\n",
      ",ARlanguage\n",
      "modelingfactorizesthelikelihoodintoaforwardproduct\n",
      "p\n",
      "(\n",
      "x\n",
      ")=\n",
      "Q\n",
      "T\n",
      "t\n",
      "=1\n",
      "p\n",
      "(\n",
      "x\n",
      "t\n",
      "j\n",
      "x\n",
      "<t\n",
      ")\n",
      "orabackward\n",
      "one\n",
      "p\n",
      "(\n",
      "x\n",
      ")=\n",
      "Q\n",
      "1\n",
      "t\n",
      "=\n",
      "T\n",
      "p\n",
      "(\n",
      "x\n",
      "t\n",
      "j\n",
      "x\n",
      ">t\n",
      ")\n",
      ".Aparametricmodel(e.g.aneuralnetwork)istrainedtomodeleach\n",
      "conditionaldistribution.SinceanARlanguagemodelisonlytrainedtoencodeauni-directionalcon-\n",
      "text(eitherforwardorbackward),itisnoteffectiveatmodelingdeepbidirectionalcontexts.Onthe\n",
      "contrary,downstreamlanguageunderstandingtasksoftenrequirebidirectionalcontextinformation.\n",
      "ThisresultsinagapbetweenARlanguagemodelingandeffectivepretraining.\n",
      "Incomparison,AEbasedpretrainingdoesnotperformexplicitdensityestimationbutinsteadaimsto\n",
      "reconstructtheoriginaldatafromcorruptedinput.AnotableexampleisBERT[\n",
      "10\n",
      "],whichhasbeen\n",
      "thestate-of-the-artpretrainingapproach.Giventheinputtokensequence,acertainportionoftokens\n",
      "arereplacedbyaspecialsymbol\n",
      "[MASK]\n",
      ",andthemodelistrainedtorecovertheoriginaltokensfrom\n",
      "thecorruptedversion.Sincedensityestimationisnotpartoftheobjective,BERTisallowedtoutilize\n",
      "\n",
      "Equalcontribution.Orderdeterminedbyswappingtheonein[9].\n",
      "1\n",
      "Pretrainedmodelsandcodeareavailableat\n",
      "https://github.com/zihangdai/xlnet\n",
      "33rdConferenceonNeuralInformationProcessingSystems(NeurIPS2019),Vancouver,Canada.\n",
      "arXiv:1906.08237v2  [cs.CL]  2 Jan 2020\n"
     ],
     "output_type": "stream"
    }
   ],
   "source": [
    "pdfFileObj = open(pdf_filepath, 'rb')\n",
    "pdfReader = PyPDF2.PdfFileReader(pdfFileObj)\n",
    "print(pdfReader.numPages)\n",
    "pageObj = pdfReader.getPage(0)\n",
    "print(pageObj.extractText())"
   ],
   "metadata": {
    "collapsed": false,
    "pycharm": {
     "name": "#%%\n",
     "is_executing": false
    }
   }
  },
  {
   "cell_type": "code",
   "execution_count": 6,
   "outputs": [],
   "source": [
    "def convert_pdf_to_txt(path):\n",
    "    rsrcmgr = PDFResourceManager()\n",
    "    retstr = StringIO()\n",
    "    codec = 'utf-8'\n",
    "    laparams = LAParams()\n",
    "    device = TextConverter(rsrcmgr, retstr, laparams=laparams)\n",
    "    fp = open(path, 'rb')\n",
    "    interpreter = PDFPageInterpreter(rsrcmgr, device)\n",
    "    password = \"\"\n",
    "    maxpages = 0\n",
    "    caching = True\n",
    "    pagenos=set()\n",
    "    \n",
    "    page_text = []\n",
    "\n",
    "    for page in PDFPage.get_pages(fp, \n",
    "                                  pagenos, \n",
    "                                  maxpages=maxpages, \n",
    "                                  password=password,\n",
    "                                  caching=caching, \n",
    "                                  check_extractable=True):\n",
    "        interpreter.process_page(page)\n",
    "\n",
    "        page_text.append(retstr.getvalue())\n",
    "\n",
    "    fp.close()\n",
    "    device.close()\n",
    "    retstr.close()\n",
    "    return page_text"
   ],
   "metadata": {
    "collapsed": false,
    "pycharm": {
     "name": "#%%\n",
     "is_executing": false
    }
   }
  },
  {
   "cell_type": "code",
   "execution_count": 7,
   "outputs": [
    {
     "name": "stdout",
     "text": [
      "pdf-text conversion took 2.1669206619262695 seconds\n"
     ],
     "output_type": "stream"
    }
   ],
   "source": [
    "start_time = time.time()\n",
    "text = convert_pdf_to_txt(pdf_filepath)\n",
    "print('pdf-text conversion took ' + str(time.time() - start_time) + ' seconds')\n"
   ],
   "metadata": {
    "collapsed": false,
    "pycharm": {
     "name": "#%%\n",
     "is_executing": false
    }
   }
  },
  {
   "cell_type": "code",
   "execution_count": 8,
   "outputs": [
    {
     "data": {
      "text/plain": "18"
     },
     "metadata": {},
     "output_type": "execute_result",
     "execution_count": 8
    }
   ],
   "source": [
    "len(text)"
   ],
   "metadata": {
    "collapsed": false,
    "pycharm": {
     "name": "#%%\n",
     "is_executing": false
    }
   }
  },
  {
   "cell_type": "code",
   "execution_count": 1,
   "outputs": [
    {
     "traceback": [
      "\u001b[0;31m---------------------------------------------------------------------------\u001b[0m",
      "\u001b[0;31mNameError\u001b[0m                                 Traceback (most recent call last)",
      "\u001b[0;32m<ipython-input-1-80c99ed1733a>\u001b[0m in \u001b[0;36m<module>\u001b[0;34m\u001b[0m\n\u001b[0;32m----> 1\u001b[0;31m \u001b[0mprint\u001b[0m\u001b[0;34m(\u001b[0m\u001b[0mtext\u001b[0m\u001b[0;34m[\u001b[0m\u001b[0;36m3\u001b[0m\u001b[0;34m]\u001b[0m\u001b[0;34m)\u001b[0m\u001b[0;34m\u001b[0m\u001b[0;34m\u001b[0m\u001b[0m\n\u001b[0m\u001b[1;32m      2\u001b[0m \u001b[0;34m\u001b[0m\u001b[0m\n",
      "\u001b[0;31mNameError\u001b[0m: name 'text' is not defined"
     ],
     "ename": "NameError",
     "evalue": "name 'text' is not defined",
     "output_type": "error"
    }
   ],
   "source": [
    "print(text[3])"
   ],
   "metadata": {
    "collapsed": false,
    "pycharm": {
     "name": "#%%\n",
     "is_executing": false
    }
   }
  },
  {
   "cell_type": "code",
   "execution_count": 9,
   "outputs": [
    {
     "traceback": [
      "\u001b[0;31m---------------------------------------------------------------------------\u001b[0m",
      "\u001b[0;31mTypeError\u001b[0m                                 Traceback (most recent call last)",
      "\u001b[0;32m<ipython-input-9-3234ca1d8919>\u001b[0m in \u001b[0;36m<module>\u001b[0;34m\u001b[0m\n\u001b[1;32m      1\u001b[0m \u001b[0;32mfrom\u001b[0m \u001b[0mRealCrowd_Insights\u001b[0m \u001b[0;32mimport\u001b[0m \u001b[0mimport_pdf\u001b[0m\u001b[0;34m\u001b[0m\u001b[0;34m\u001b[0m\u001b[0m\n\u001b[1;32m      2\u001b[0m \u001b[0mpdf_filepath\u001b[0m \u001b[0;34m=\u001b[0m \u001b[0;34m\"/home/matt_valley/Dropbox/Insight/Papers/Yang et al 2019.pdf\"\u001b[0m\u001b[0;34m\u001b[0m\u001b[0;34m\u001b[0m\u001b[0m\n\u001b[0;32m----> 3\u001b[0;31m \u001b[0mtext\u001b[0m \u001b[0;34m=\u001b[0m \u001b[0mimport_pdf\u001b[0m\u001b[0;34m(\u001b[0m\u001b[0mpdf_filepath\u001b[0m\u001b[0;34m)\u001b[0m\u001b[0;34m\u001b[0m\u001b[0;34m\u001b[0m\u001b[0m\n\u001b[0m\u001b[1;32m      4\u001b[0m \u001b[0mprint\u001b[0m\u001b[0;34m(\u001b[0m\u001b[0mtext\u001b[0m\u001b[0;34m)\u001b[0m\u001b[0;34m\u001b[0m\u001b[0;34m\u001b[0m\u001b[0m\n",
      "\u001b[0;31mTypeError\u001b[0m: 'module' object is not callable"
     ],
     "ename": "TypeError",
     "evalue": "'module' object is not callable",
     "output_type": "error"
    }
   ],
   "source": [
    "from RealCrowd_Insights import import_pdf\n",
    "pdf_filepath = \"/home/matt_valley/Dropbox/Insight/Papers/Yang et al 2019.pdf\"\n",
    "text = import_pdf(pdf_filepath)\n",
    "print(text)"
   ],
   "metadata": {
    "collapsed": false,
    "pycharm": {
     "name": "#%%\n",
     "is_executing": false
    }
   }
  },
  {
   "cell_type": "code",
   "execution_count": null,
   "outputs": [],
   "source": [
    "\n"
   ],
   "metadata": {
    "collapsed": false,
    "pycharm": {
     "name": "#%%\n"
    }
   }
  }
 ],
 "metadata": {
  "kernelspec": {
   "name": "pycharm-f056d84",
   "language": "python",
   "display_name": "PyCharm (insight_2020a_project)"
  },
  "language_info": {
   "codemirror_mode": {
    "name": "ipython",
    "version": 2
   },
   "file_extension": ".py",
   "mimetype": "text/x-python",
   "name": "python",
   "nbconvert_exporter": "python",
   "pygments_lexer": "ipython2",
   "version": "2.7.6"
  },
  "pycharm": {
   "stem_cell": {
    "cell_type": "raw",
    "source": [],
    "metadata": {
     "collapsed": false
    }
   }
  }
 },
 "nbformat": 4,
 "nbformat_minor": 0
}