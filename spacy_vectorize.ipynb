{
 "cells": [
  {
   "cell_type": "code",
   "execution_count": 1,
   "outputs": [],
   "source": [
    "###\n",
    "# Spacy experimentation\n",
    "# https://colab.research.google.com/github/explosion/spacy-transformers/blob/master/examples/Spacy_Transformers_Demo.ipynb#scrollTo=bWDTiDUo16I5\n",
    "###"
   ],
   "metadata": {
    "collapsed": false,
    "pycharm": {
     "name": "#%%\n",
     "is_executing": false
    }
   }
  },
  {
   "cell_type": "code",
   "execution_count": 23,
   "outputs": [],
   "source": [
    "import numpy as np\n",
    "import pandas as pd\n",
    "import datetime as dt\n",
    "import timeit\n",
    "import itertools\n",
    "import matplotlib.pyplot as plt\n",
    "#import cupy\n",
    "\n",
    "import spacy\n",
    "import en_trf_xlnetbasecased_lg\n",
    "from spacy.pipeline import EntityRuler"
   ],
   "metadata": {
    "collapsed": false,
    "pycharm": {
     "name": "#%%\n",
     "is_executing": false
    }
   }
  },
  {
   "cell_type": "code",
   "execution_count": 3,
   "outputs": [
    {
     "name": "stdout",
     "text": [
      "gpu not used\n"
     ],
     "output_type": "stream"
    }
   ],
   "source": [
    "is_using_gpu = spacy.prefer_gpu()\n",
    "if is_using_gpu:\n",
    "    print(\"Using GPU!\")\n",
    "    torch.set_default_tensor_type(\"torch.cuda.FloatTensor\")\n",
    "    print(\"GPU Usage\")\n",
    "    GPUtil.showUtilization()\n",
    "else:\n",
    "    print('gpu not used')"
   ],
   "metadata": {
    "collapsed": false,
    "pycharm": {
     "name": "#%%\n",
     "is_executing": false
    }
   }
  },
  {
   "cell_type": "code",
   "execution_count": 24,
   "outputs": [],
   "source": [
    "test_text = \"This downloads the English models for the neural pipeline.  \\\n",
    "            Apple is opening its first big office in San Francisco.\""
   ],
   "metadata": {
    "collapsed": false,
    "pycharm": {
     "name": "#%%\n",
     "is_executing": false
    }
   }
  },
  {
   "cell_type": "code",
   "execution_count": 48,
   "outputs": [
    {
     "name": "stdout",
     "text": [
      "(22, 96)\n"
     ],
     "output_type": "stream"
    }
   ],
   "source": [
    "#model = 'en_trf_xlnetbasecased_lg' # required large amount of RAM\n",
    "model = 'en_core_web_sm' # for testing on laptop\n",
    "nlp = spacy.load(model)\n",
    "doc = nlp(test_text)\n",
    "if model == 'en_trf_xlnetbasecased_lg':\n",
    "    assert doc.tensor.shape == (7, 768)\n",
    "    print(doc._.trf_word_pieces_)\n",
    "else: \n",
    "    print(doc.tensor.shape)  # String values of the wordpieces\n",
    "# The raw transformer output has one row per wordpiece.\n"
   ],
   "metadata": {
    "collapsed": false,
    "pycharm": {
     "name": "#%%\n",
     "is_executing": false
    }
   }
  },
  {
   "cell_type": "code",
   "execution_count": 49,
   "outputs": [
    {
     "name": "stdout",
     "text": [
      "None\n",
      "None\n"
     ],
     "output_type": "stream"
    }
   ],
   "source": [
    "print(doc._.trf_word_pieces)  # Wordpiece IDs (note: *not* spaCy's hash values!)\n",
    "print(doc._.trf_alignment)  # Alignment between spaCy tokens and wordpieces"
   ],
   "metadata": {
    "collapsed": false,
    "pycharm": {
     "name": "#%%\n",
     "is_executing": false
    }
   }
  },
  {
   "cell_type": "code",
   "execution_count": 50,
   "outputs": [
    {
     "name": "stdout",
     "text": [
      "[the English models, the neural pipeline, Apple, its first big office, San Francisco]\n",
      "[English, Apple, first, San Francisco]\n",
      "[0.5665008, -0.81509286, -0.1968553, 1.4986691, 1.6544025, 0.84154737, 0.39333984, -0.71957296, 1.5567929, 1.1163052, 0.3584819, -0.12662949, -0.60008836, -0.43438655, -1.698071, -0.94573015, -0.3395876, 0.62878084, -0.6069204, -0.9008972, -0.017370323, -0.6115438, -0.0033634792, -0.46054646, -0.78127784, 0.29187703, -1.0022246, -0.70720476, 0.10279714, -0.8063633, 0.16629168, 0.38355586, -0.36699972, -0.460046, 0.0022588617, -1.7921323, 1.2108642, -0.12025972, -1.799353, 0.04530349, 2.1237574, -0.15021712, 0.15487348, -1.6605483, 0.09130888, -0.40168554, 0.17516986, 0.047767665, -1.1016526, 0.82798314, 0.44769165, -1.1320049, -0.70517784, -0.23953885, -1.7606286, 0.8487205, 1.0371106, 1.2421204, -0.3026244, -0.6775752, 0.05937457, 0.042447697, 1.299655, 0.7147067, 0.89749414, 1.390488, 0.6627934, -1.7640376, -0.8623455, 0.90369356, 0.27044013, -0.040202726, 0.885969, -0.12662634, -0.16382568, -0.020451225, 1.2604804, -0.6662393, -0.32145986, 0.36244047, 1.0645653, -0.36957997, 0.8474813, -0.5278479, 1.5722592, -0.10220868, -0.451274, 0.0850692, -0.27827045, 0.3699278, -1.0651671, -0.62828845, 0.7870732, 1.1454879, 0.78798294, 0.94315857]\n"
     ],
     "output_type": "stream"
    }
   ],
   "source": [
    "a = [X for X in doc.noun_chunks]\n",
    "print(a)\n",
    "\n",
    "a = [X for X in doc.ents]\n",
    "print(a)\n",
    "\n",
    "a = [X for X in doc.vector]\n",
    "print(a)"
   ],
   "metadata": {
    "collapsed": false,
    "pycharm": {
     "name": "#%%\n",
     "is_executing": false
    }
   }
  },
  {
   "cell_type": "code",
   "execution_count": 51,
   "outputs": [
    {
     "name": "stdout",
     "text": [
      "['tagger', 'parser', 'ner', 'print_info']\n",
      "After tokenization, this doc has 22 tokens.\n",
      "The part-of-speech tags are: ['DET', 'VERB', 'DET', 'ADJ', 'NOUN', 'ADP', 'DET', 'ADJ', 'NOUN', 'PUNCT', 'SPACE', 'PROPN', 'AUX', 'VERB', 'DET', 'ADJ', 'ADJ', 'NOUN', 'ADP', 'PROPN', 'PROPN', 'PUNCT']\n"
     ],
     "output_type": "stream"
    }
   ],
   "source": [
    "# EXAMPLE OF ADDING A PIPE TO THE SPACY PIPELINE\n",
    "\n",
    "def test_component(doc):\n",
    "    print(\"After tokenization, this doc has {} tokens.\".format(len(doc)))\n",
    "    print(\"The part-of-speech tags are:\", [token.pos_ for token in doc])\n",
    "    if len(doc) < 10:\n",
    "        print(\"This is a pretty short document.\")\n",
    "    return doc\n",
    "\n",
    "nlp.add_pipe(test_component, name=\"print_info\", last=True)\n",
    "print(nlp.pipe_names)  # ['tagger', 'parser', 'ner', 'print_info']\n",
    "doc = nlp(test_text)"
   ],
   "metadata": {
    "collapsed": false,
    "pycharm": {
     "name": "#%%\n",
     "is_executing": false
    }
   }
  },
  {
   "cell_type": "code",
   "execution_count": 52,
   "outputs": [
    {
     "name": "stdout",
     "text": [
      "After tokenization, this doc has 1 tokens.\n",
      "The part-of-speech tags are: ['PROPN']\n",
      "This is a pretty short document.\n"
     ],
     "output_type": "stream"
    }
   ],
   "source": [
    "# EXAMPLE OF USING THE ENTITY RULER\n",
    "\n",
    "ruler = EntityRuler(nlp)\n",
    "patterns = [{\"label\": \"ORG\", \"pattern\": \"Apple\"},\n",
    "            {\"label\": \"GPE\", \"pattern\": [{\"LOWER\": \"neural\"}, {\"LOWER\": \"pipeline\"}]}]\n",
    "ruler.add_patterns(patterns)\n",
    "nlp.add_pipe(ruler)"
   ],
   "metadata": {
    "collapsed": false,
    "pycharm": {
     "name": "#%%\n",
     "is_executing": false
    }
   }
  },
  {
   "cell_type": "code",
   "execution_count": 53,
   "outputs": [
    {
     "name": "stdout",
     "text": [
      "After tokenization, this doc has 22 tokens.\n",
      "The part-of-speech tags are: ['DET', 'VERB', 'DET', 'ADJ', 'NOUN', 'ADP', 'DET', 'ADJ', 'NOUN', 'PUNCT', 'SPACE', 'PROPN', 'AUX', 'VERB', 'DET', 'ADJ', 'ADJ', 'NOUN', 'ADP', 'PROPN', 'PROPN', 'PUNCT']\n",
      "[the English models, the neural pipeline, Apple, its first big office, San Francisco]\n",
      "[English, neural pipeline, Apple, first, San Francisco]\n"
     ],
     "output_type": "stream"
    }
   ],
   "source": [
    "doc2 = nlp(test_text)\n",
    "\n",
    "a = [X for X in doc2.noun_chunks]\n",
    "print(a)\n",
    "\n",
    "a = [X for X in doc2.ents]\n",
    "print(a)"
   ],
   "metadata": {
    "collapsed": false,
    "pycharm": {
     "name": "#%%\n",
     "is_executing": false
    }
   }
  },
  {
   "cell_type": "code",
   "execution_count": 54,
   "outputs": [
    {
     "name": "stdout",
     "text": [
      "[('English', 'LANGUAGE'), ('Apple', 'ORG'), ('first', 'ORDINAL'), ('San Francisco', 'GPE')]\n",
      "[('English', 'LANGUAGE'), ('neural pipeline', 'GPE'), ('Apple', 'ORG'), ('first', 'ORDINAL'), ('San Francisco', 'GPE')]\n"
     ],
     "output_type": "stream"
    }
   ],
   "source": [
    "print([(ent.text, ent.label_) for ent in doc.ents])\n",
    "print([(ent.text, ent.label_) for ent in doc2.ents])"
   ],
   "metadata": {
    "collapsed": false,
    "pycharm": {
     "name": "#%%\n",
     "is_executing": false
    }
   }
  },
  {
   "cell_type": "code",
   "execution_count": 56,
   "outputs": [],
   "source": [
    "# REARRANGE THE PIPELINE SO THE ENTITY RULES OCCURS BEFORE THE NER\n",
    "\n",
    "nlp.remove_pipe(name='entity_ruler')\n",
    "\n",
    "nlp.add_pipe(ruler, before='ner')"
   ],
   "metadata": {
    "collapsed": false,
    "pycharm": {
     "name": "#%%\n",
     "is_executing": false
    }
   }
  },
  {
   "cell_type": "code",
   "execution_count": 57,
   "outputs": [
    {
     "name": "stdout",
     "text": [
      "After tokenization, this doc has 22 tokens.\n",
      "The part-of-speech tags are: ['DET', 'VERB', 'DET', 'ADJ', 'NOUN', 'ADP', 'DET', 'ADJ', 'NOUN', 'PUNCT', 'SPACE', 'PROPN', 'AUX', 'VERB', 'DET', 'ADJ', 'ADJ', 'NOUN', 'ADP', 'PROPN', 'PROPN', 'PUNCT']\n",
      "[('English', 'LANGUAGE'), ('Apple', 'ORG'), ('first', 'ORDINAL'), ('San Francisco', 'GPE')]\n",
      "[('English', 'LANGUAGE'), ('neural pipeline', 'GPE'), ('Apple', 'ORG'), ('first', 'ORDINAL'), ('San Francisco', 'GPE')]\n",
      "[('English', 'LANGUAGE'), ('neural pipeline', 'GPE'), ('Apple', 'ORG'), ('first', 'ORDINAL'), ('San Francisco', 'GPE')]\n"
     ],
     "output_type": "stream"
    }
   ],
   "source": [
    "doc3 = nlp(test_text)\n",
    "\n",
    "print([(ent.text, ent.label_) for ent in doc.ents])\n",
    "print([(ent.text, ent.label_) for ent in doc2.ents])\n",
    "print([(ent.text, ent.label_) for ent in doc3.ents])"
   ],
   "metadata": {
    "collapsed": false,
    "pycharm": {
     "name": "#%%\n",
     "is_executing": false
    }
   }
  },
  {
   "cell_type": "code",
   "execution_count": null,
   "outputs": [],
   "source": [
    "\n"
   ],
   "metadata": {
    "collapsed": false,
    "pycharm": {
     "name": "#%%\n"
    }
   }
  }
 ],
 "metadata": {
  "kernelspec": {
   "name": "pycharm-f056d84",
   "language": "python",
   "display_name": "PyCharm (insight_2020a_project)"
  },
  "language_info": {
   "codemirror_mode": {
    "name": "ipython",
    "version": 2
   },
   "file_extension": ".py",
   "mimetype": "text/x-python",
   "name": "python",
   "nbconvert_exporter": "python",
   "pygments_lexer": "ipython2",
   "version": "2.7.6"
  },
  "pycharm": {
   "stem_cell": {
    "cell_type": "raw",
    "source": [],
    "metadata": {
     "collapsed": false
    }
   }
  }
 },
 "nbformat": 4,
 "nbformat_minor": 0
}